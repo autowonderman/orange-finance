{
 "cells": [
  {
   "cell_type": "code",
   "execution_count": 4,
   "metadata": {},
   "outputs": [],
   "source": [
    "# libraries\n",
    "import pandas as pd\n",
    "\n",
    "from sklearn.preprocessing import LabelEncoder\n",
    "from datetime import datetime"
   ]
  },
  {
   "cell_type": "markdown",
   "metadata": {},
   "source": [
    "# 1. load data"
   ]
  },
  {
   "cell_type": "code",
   "execution_count": 5,
   "metadata": {},
   "outputs": [],
   "source": [
    "data_dir = \"input/new/\"\n",
    "operation_train = pd.read_csv(data_dir + 'operation_train_new.csv', encoding='utf8', engine='python')\n",
    "transaction_train = pd.read_csv(data_dir + 'transaction_train_new.csv', encoding='utf8', engine='python')\n",
    "tag_train = pd.read_csv(data_dir + 'tag_train_new.csv', encoding='utf8', engine='python')\n",
    "operation_round1 = pd.read_csv(data_dir + 'operation_round1_new.csv', encoding='utf8', engine='python')\n",
    "transaction_round1 = pd.read_csv(data_dir + 'transaction_round1_new.csv', encoding='utf8', engine='python')"
   ]
  },
  {
   "cell_type": "code",
   "execution_count": 6,
   "metadata": {},
   "outputs": [
    {
     "data": {
      "text/plain": [
       "(1460843, 20)"
      ]
     },
     "execution_count": 6,
     "metadata": {},
     "output_type": "execute_result"
    }
   ],
   "source": [
    "operation_train.shape"
   ]
  },
  {
   "cell_type": "code",
   "execution_count": 7,
   "metadata": {},
   "outputs": [
    {
     "data": {
      "text/plain": [
       "29728"
      ]
     },
     "execution_count": 7,
     "metadata": {},
     "output_type": "execute_result"
    }
   ],
   "source": [
    "len(operation_train['UID'].unique())"
   ]
  },
  {
   "cell_type": "code",
   "execution_count": 8,
   "metadata": {},
   "outputs": [
    {
     "data": {
      "text/plain": [
       "(264654, 27)"
      ]
     },
     "execution_count": 8,
     "metadata": {},
     "output_type": "execute_result"
    }
   ],
   "source": [
    "transaction_train.shape"
   ]
  },
  {
   "cell_type": "code",
   "execution_count": 9,
   "metadata": {},
   "outputs": [
    {
     "data": {
      "text/plain": [
       "30542"
      ]
     },
     "execution_count": 9,
     "metadata": {},
     "output_type": "execute_result"
    }
   ],
   "source": [
    "len(transaction_train['UID'].unique())"
   ]
  },
  {
   "cell_type": "code",
   "execution_count": 10,
   "metadata": {},
   "outputs": [
    {
     "data": {
      "text/plain": [
       "(31179, 2)"
      ]
     },
     "execution_count": 10,
     "metadata": {},
     "output_type": "execute_result"
    }
   ],
   "source": [
    "tag_train.shape"
   ]
  },
  {
   "cell_type": "code",
   "execution_count": 11,
   "metadata": {},
   "outputs": [
    {
     "data": {
      "text/plain": [
       "(1769049, 20)"
      ]
     },
     "execution_count": 11,
     "metadata": {},
     "output_type": "execute_result"
    }
   ],
   "source": [
    "operation_round1.shape"
   ]
  },
  {
   "cell_type": "code",
   "execution_count": 12,
   "metadata": {},
   "outputs": [
    {
     "data": {
      "text/plain": [
       "(168981, 27)"
      ]
     },
     "execution_count": 12,
     "metadata": {},
     "output_type": "execute_result"
    }
   ],
   "source": [
    "transaction_round1.shape"
   ]
  },
  {
   "cell_type": "code",
   "execution_count": 13,
   "metadata": {},
   "outputs": [
    {
     "data": {
      "text/html": [
       "<div>\n",
       "<style scoped>\n",
       "    .dataframe tbody tr th:only-of-type {\n",
       "        vertical-align: middle;\n",
       "    }\n",
       "\n",
       "    .dataframe tbody tr th {\n",
       "        vertical-align: top;\n",
       "    }\n",
       "\n",
       "    .dataframe thead th {\n",
       "        text-align: right;\n",
       "    }\n",
       "</style>\n",
       "<table border=\"1\" class=\"dataframe\">\n",
       "  <thead>\n",
       "    <tr style=\"text-align: right;\">\n",
       "      <th></th>\n",
       "      <th>UID</th>\n",
       "      <th>day</th>\n",
       "      <th>mode</th>\n",
       "      <th>success</th>\n",
       "      <th>time</th>\n",
       "      <th>os</th>\n",
       "      <th>version</th>\n",
       "      <th>device1</th>\n",
       "      <th>device2</th>\n",
       "      <th>device_code1</th>\n",
       "      <th>device_code2</th>\n",
       "      <th>device_code3</th>\n",
       "      <th>mac1</th>\n",
       "      <th>mac2</th>\n",
       "      <th>ip1</th>\n",
       "      <th>ip2</th>\n",
       "      <th>wifi</th>\n",
       "      <th>geo_code</th>\n",
       "      <th>ip1_sub</th>\n",
       "      <th>ip2_sub</th>\n",
       "    </tr>\n",
       "  </thead>\n",
       "  <tbody>\n",
       "    <tr>\n",
       "      <th>0</th>\n",
       "      <td>10035</td>\n",
       "      <td>30</td>\n",
       "      <td>c8741ce15ceac2a4</td>\n",
       "      <td>1.0</td>\n",
       "      <td>17:51:50</td>\n",
       "      <td>102</td>\n",
       "      <td>7.0.9</td>\n",
       "      <td>49dd36968dbfadda</td>\n",
       "      <td>OPPO R11</td>\n",
       "      <td>ecb58082e0e9b8e2</td>\n",
       "      <td>00fa2e4ba95605ef</td>\n",
       "      <td>NaN</td>\n",
       "      <td>NaN</td>\n",
       "      <td>a8dc52f65085212e</td>\n",
       "      <td>55dd8936655c86f6</td>\n",
       "      <td>NaN</td>\n",
       "      <td>NaN</td>\n",
       "      <td>wskx</td>\n",
       "      <td>e58e48fb9215116e</td>\n",
       "      <td>NaN</td>\n",
       "    </tr>\n",
       "    <tr>\n",
       "      <th>1</th>\n",
       "      <td>16264</td>\n",
       "      <td>16</td>\n",
       "      <td>20a91b45ef8f8221</td>\n",
       "      <td>1.0</td>\n",
       "      <td>08:36:00</td>\n",
       "      <td>200</td>\n",
       "      <td>NaN</td>\n",
       "      <td>NaN</td>\n",
       "      <td>NaN</td>\n",
       "      <td>NaN</td>\n",
       "      <td>NaN</td>\n",
       "      <td>NaN</td>\n",
       "      <td>NaN</td>\n",
       "      <td>NaN</td>\n",
       "      <td>NaN</td>\n",
       "      <td>fc7fc47d6c93f554</td>\n",
       "      <td>NaN</td>\n",
       "      <td>NaN</td>\n",
       "      <td>NaN</td>\n",
       "      <td>3502c553ea2ac187</td>\n",
       "    </tr>\n",
       "    <tr>\n",
       "      <th>2</th>\n",
       "      <td>13162</td>\n",
       "      <td>8</td>\n",
       "      <td>b668e42707ee9c7b</td>\n",
       "      <td>0.0</td>\n",
       "      <td>18:09:57</td>\n",
       "      <td>102</td>\n",
       "      <td>7.0.5</td>\n",
       "      <td>630a1adff2a87007</td>\n",
       "      <td>MI MAX 2</td>\n",
       "      <td>1da225cb679a37eb</td>\n",
       "      <td>f18538156b8f9b57</td>\n",
       "      <td>NaN</td>\n",
       "      <td>a8dc52f65085212e</td>\n",
       "      <td>NaN</td>\n",
       "      <td>2147d925e7a8ba3c</td>\n",
       "      <td>NaN</td>\n",
       "      <td>NaN</td>\n",
       "      <td>NaN</td>\n",
       "      <td>3591678eca3f7a23</td>\n",
       "      <td>NaN</td>\n",
       "    </tr>\n",
       "    <tr>\n",
       "      <th>3</th>\n",
       "      <td>21392</td>\n",
       "      <td>23</td>\n",
       "      <td>c8741ce15ceac2a4</td>\n",
       "      <td>1.0</td>\n",
       "      <td>23:53:49</td>\n",
       "      <td>102</td>\n",
       "      <td>7.0.9</td>\n",
       "      <td>630a1adff2a87007</td>\n",
       "      <td>MI 5X</td>\n",
       "      <td>d0c285513b785609</td>\n",
       "      <td>a7e79e3c2c85c8c7</td>\n",
       "      <td>NaN</td>\n",
       "      <td>NaN</td>\n",
       "      <td>04a2d6c090518faa</td>\n",
       "      <td>c52efc665f0af581</td>\n",
       "      <td>NaN</td>\n",
       "      <td>4ff1553b1c96360e</td>\n",
       "      <td>wm4v</td>\n",
       "      <td>fdb5e20f6a6f2cd7</td>\n",
       "      <td>NaN</td>\n",
       "    </tr>\n",
       "    <tr>\n",
       "      <th>4</th>\n",
       "      <td>18599</td>\n",
       "      <td>26</td>\n",
       "      <td>acfaded7e04e7ba0</td>\n",
       "      <td>1.0</td>\n",
       "      <td>11:11:15</td>\n",
       "      <td>102</td>\n",
       "      <td>7.0.0</td>\n",
       "      <td>8399be6b80847240</td>\n",
       "      <td>NaN</td>\n",
       "      <td>27efd832595503f6</td>\n",
       "      <td>b6457e2264266257</td>\n",
       "      <td>NaN</td>\n",
       "      <td>NaN</td>\n",
       "      <td>1ab9dc3eae102aa6</td>\n",
       "      <td>0fe293bea342665a</td>\n",
       "      <td>NaN</td>\n",
       "      <td>NaN</td>\n",
       "      <td>NaN</td>\n",
       "      <td>f5009e2c6c13c80c</td>\n",
       "      <td>NaN</td>\n",
       "    </tr>\n",
       "  </tbody>\n",
       "</table>\n",
       "</div>"
      ],
      "text/plain": [
       "     UID  day              mode  success      time   os version  \\\n",
       "0  10035   30  c8741ce15ceac2a4      1.0  17:51:50  102   7.0.9   \n",
       "1  16264   16  20a91b45ef8f8221      1.0  08:36:00  200     NaN   \n",
       "2  13162    8  b668e42707ee9c7b      0.0  18:09:57  102   7.0.5   \n",
       "3  21392   23  c8741ce15ceac2a4      1.0  23:53:49  102   7.0.9   \n",
       "4  18599   26  acfaded7e04e7ba0      1.0  11:11:15  102   7.0.0   \n",
       "\n",
       "            device1   device2      device_code1      device_code2  \\\n",
       "0  49dd36968dbfadda  OPPO R11  ecb58082e0e9b8e2  00fa2e4ba95605ef   \n",
       "1               NaN       NaN               NaN               NaN   \n",
       "2  630a1adff2a87007  MI MAX 2  1da225cb679a37eb  f18538156b8f9b57   \n",
       "3  630a1adff2a87007     MI 5X  d0c285513b785609  a7e79e3c2c85c8c7   \n",
       "4  8399be6b80847240       NaN  27efd832595503f6  b6457e2264266257   \n",
       "\n",
       "  device_code3              mac1              mac2               ip1  \\\n",
       "0          NaN               NaN  a8dc52f65085212e  55dd8936655c86f6   \n",
       "1          NaN               NaN               NaN               NaN   \n",
       "2          NaN  a8dc52f65085212e               NaN  2147d925e7a8ba3c   \n",
       "3          NaN               NaN  04a2d6c090518faa  c52efc665f0af581   \n",
       "4          NaN               NaN  1ab9dc3eae102aa6  0fe293bea342665a   \n",
       "\n",
       "                ip2              wifi geo_code           ip1_sub  \\\n",
       "0               NaN               NaN     wskx  e58e48fb9215116e   \n",
       "1  fc7fc47d6c93f554               NaN      NaN               NaN   \n",
       "2               NaN               NaN      NaN  3591678eca3f7a23   \n",
       "3               NaN  4ff1553b1c96360e     wm4v  fdb5e20f6a6f2cd7   \n",
       "4               NaN               NaN      NaN  f5009e2c6c13c80c   \n",
       "\n",
       "            ip2_sub  \n",
       "0               NaN  \n",
       "1  3502c553ea2ac187  \n",
       "2               NaN  \n",
       "3               NaN  \n",
       "4               NaN  "
      ]
     },
     "execution_count": 13,
     "metadata": {},
     "output_type": "execute_result"
    }
   ],
   "source": [
    "operation_train.head()"
   ]
  },
  {
   "cell_type": "code",
   "execution_count": 14,
   "metadata": {},
   "outputs": [
    {
     "name": "stdout",
     "output_type": "stream",
     "text": [
      "<class 'pandas.core.frame.DataFrame'>\n",
      "RangeIndex: 1460843 entries, 0 to 1460842\n",
      "Data columns (total 20 columns):\n",
      "UID             1460843 non-null int64\n",
      "day             1460843 non-null int64\n",
      "mode            1460843 non-null object\n",
      "success         1359763 non-null float64\n",
      "time            1460843 non-null object\n",
      "os              1460843 non-null int64\n",
      "version         1208729 non-null object\n",
      "device1         1209417 non-null object\n",
      "device2         1032582 non-null object\n",
      "device_code1    1047843 non-null object\n",
      "device_code2    1015857 non-null object\n",
      "device_code3    160726 non-null object\n",
      "mac1            147147 non-null object\n",
      "mac2            897176 non-null object\n",
      "ip1             1198398 non-null object\n",
      "ip2             135373 non-null object\n",
      "wifi            457041 non-null object\n",
      "geo_code        965455 non-null object\n",
      "ip1_sub         1198398 non-null object\n",
      "ip2_sub         135373 non-null object\n",
      "dtypes: float64(1), int64(3), object(16)\n",
      "memory usage: 222.9+ MB\n"
     ]
    }
   ],
   "source": [
    "operation_train.info()"
   ]
  },
  {
   "cell_type": "code",
   "execution_count": 15,
   "metadata": {},
   "outputs": [
    {
     "data": {
      "text/html": [
       "<div>\n",
       "<style scoped>\n",
       "    .dataframe tbody tr th:only-of-type {\n",
       "        vertical-align: middle;\n",
       "    }\n",
       "\n",
       "    .dataframe tbody tr th {\n",
       "        vertical-align: top;\n",
       "    }\n",
       "\n",
       "    .dataframe thead th {\n",
       "        text-align: right;\n",
       "    }\n",
       "</style>\n",
       "<table border=\"1\" class=\"dataframe\">\n",
       "  <thead>\n",
       "    <tr style=\"text-align: right;\">\n",
       "      <th></th>\n",
       "      <th>UID</th>\n",
       "      <th>day</th>\n",
       "      <th>success</th>\n",
       "      <th>os</th>\n",
       "    </tr>\n",
       "  </thead>\n",
       "  <tbody>\n",
       "    <tr>\n",
       "      <th>count</th>\n",
       "      <td>1.460843e+06</td>\n",
       "      <td>1.460843e+06</td>\n",
       "      <td>1.359763e+06</td>\n",
       "      <td>1.460843e+06</td>\n",
       "    </tr>\n",
       "    <tr>\n",
       "      <th>mean</th>\n",
       "      <td>4.662851e+04</td>\n",
       "      <td>1.615812e+01</td>\n",
       "      <td>9.479005e-01</td>\n",
       "      <td>1.182725e+02</td>\n",
       "    </tr>\n",
       "    <tr>\n",
       "      <th>std</th>\n",
       "      <td>1.978302e+04</td>\n",
       "      <td>9.006117e+00</td>\n",
       "      <td>2.222278e-01</td>\n",
       "      <td>3.632617e+01</td>\n",
       "    </tr>\n",
       "    <tr>\n",
       "      <th>min</th>\n",
       "      <td>1.000000e+04</td>\n",
       "      <td>1.000000e+00</td>\n",
       "      <td>0.000000e+00</td>\n",
       "      <td>1.010000e+02</td>\n",
       "    </tr>\n",
       "    <tr>\n",
       "      <th>25%</th>\n",
       "      <td>2.144200e+04</td>\n",
       "      <td>8.000000e+00</td>\n",
       "      <td>1.000000e+00</td>\n",
       "      <td>1.020000e+02</td>\n",
       "    </tr>\n",
       "    <tr>\n",
       "      <th>50%</th>\n",
       "      <td>5.525700e+04</td>\n",
       "      <td>1.600000e+01</td>\n",
       "      <td>1.000000e+00</td>\n",
       "      <td>1.020000e+02</td>\n",
       "    </tr>\n",
       "    <tr>\n",
       "      <th>75%</th>\n",
       "      <td>6.155700e+04</td>\n",
       "      <td>2.300000e+01</td>\n",
       "      <td>1.000000e+00</td>\n",
       "      <td>1.030000e+02</td>\n",
       "    </tr>\n",
       "    <tr>\n",
       "      <th>max</th>\n",
       "      <td>6.775600e+04</td>\n",
       "      <td>3.000000e+01</td>\n",
       "      <td>1.000000e+00</td>\n",
       "      <td>2.000000e+02</td>\n",
       "    </tr>\n",
       "  </tbody>\n",
       "</table>\n",
       "</div>"
      ],
      "text/plain": [
       "                UID           day       success            os\n",
       "count  1.460843e+06  1.460843e+06  1.359763e+06  1.460843e+06\n",
       "mean   4.662851e+04  1.615812e+01  9.479005e-01  1.182725e+02\n",
       "std    1.978302e+04  9.006117e+00  2.222278e-01  3.632617e+01\n",
       "min    1.000000e+04  1.000000e+00  0.000000e+00  1.010000e+02\n",
       "25%    2.144200e+04  8.000000e+00  1.000000e+00  1.020000e+02\n",
       "50%    5.525700e+04  1.600000e+01  1.000000e+00  1.020000e+02\n",
       "75%    6.155700e+04  2.300000e+01  1.000000e+00  1.030000e+02\n",
       "max    6.775600e+04  3.000000e+01  1.000000e+00  2.000000e+02"
      ]
     },
     "execution_count": 15,
     "metadata": {},
     "output_type": "execute_result"
    }
   ],
   "source": [
    "operation_train.describe()"
   ]
  },
  {
   "cell_type": "code",
   "execution_count": 16,
   "metadata": {},
   "outputs": [
    {
     "data": {
      "text/plain": [
       "29728"
      ]
     },
     "execution_count": 16,
     "metadata": {},
     "output_type": "execute_result"
    }
   ],
   "source": [
    "len(operation_train['UID'].unique())"
   ]
  },
  {
   "cell_type": "code",
   "execution_count": 17,
   "metadata": {},
   "outputs": [
    {
     "name": "stdout",
     "output_type": "stream",
     "text": [
      "<class 'pandas.core.frame.DataFrame'>\n",
      "RangeIndex: 264654 entries, 0 to 264653\n",
      "Data columns (total 27 columns):\n",
      "UID             264654 non-null int64\n",
      "channel         264654 non-null int64\n",
      "day             264654 non-null int64\n",
      "time            264654 non-null object\n",
      "trans_amt       264654 non-null int64\n",
      "amt_src1        264654 non-null object\n",
      "merchant        264654 non-null object\n",
      "code1           24875 non-null object\n",
      "code2           3219 non-null object\n",
      "trans_type1     264654 non-null object\n",
      "acc_id1         100318 non-null object\n",
      "device_code1    174139 non-null object\n",
      "device_code2    167096 non-null object\n",
      "device_code3    43626 non-null object\n",
      "device1         217088 non-null object\n",
      "device2         225609 non-null object\n",
      "mac1            173444 non-null object\n",
      "ip1             225926 non-null object\n",
      "bal             264654 non-null int64\n",
      "amt_src2        141939 non-null object\n",
      "acc_id2         28752 non-null object\n",
      "acc_id3         28989 non-null object\n",
      "geo_code        197194 non-null object\n",
      "trans_type2     229500 non-null float64\n",
      "market_code     30025 non-null object\n",
      "market_type     30025 non-null float64\n",
      "ip1_sub         225926 non-null object\n",
      "dtypes: float64(2), int64(5), object(20)\n",
      "memory usage: 54.5+ MB\n"
     ]
    }
   ],
   "source": [
    "transaction_train.info()"
   ]
  },
  {
   "cell_type": "code",
   "execution_count": 18,
   "metadata": {},
   "outputs": [
    {
     "data": {
      "text/html": [
       "<div>\n",
       "<style scoped>\n",
       "    .dataframe tbody tr th:only-of-type {\n",
       "        vertical-align: middle;\n",
       "    }\n",
       "\n",
       "    .dataframe tbody tr th {\n",
       "        vertical-align: top;\n",
       "    }\n",
       "\n",
       "    .dataframe thead th {\n",
       "        text-align: right;\n",
       "    }\n",
       "</style>\n",
       "<table border=\"1\" class=\"dataframe\">\n",
       "  <thead>\n",
       "    <tr style=\"text-align: right;\">\n",
       "      <th></th>\n",
       "      <th>UID</th>\n",
       "      <th>channel</th>\n",
       "      <th>day</th>\n",
       "      <th>time</th>\n",
       "      <th>trans_amt</th>\n",
       "      <th>amt_src1</th>\n",
       "      <th>merchant</th>\n",
       "      <th>code1</th>\n",
       "      <th>code2</th>\n",
       "      <th>trans_type1</th>\n",
       "      <th>...</th>\n",
       "      <th>ip1</th>\n",
       "      <th>bal</th>\n",
       "      <th>amt_src2</th>\n",
       "      <th>acc_id2</th>\n",
       "      <th>acc_id3</th>\n",
       "      <th>geo_code</th>\n",
       "      <th>trans_type2</th>\n",
       "      <th>market_code</th>\n",
       "      <th>market_type</th>\n",
       "      <th>ip1_sub</th>\n",
       "    </tr>\n",
       "  </thead>\n",
       "  <tbody>\n",
       "    <tr>\n",
       "      <th>32575</th>\n",
       "      <td>23131</td>\n",
       "      <td>102</td>\n",
       "      <td>30</td>\n",
       "      <td>17:13:21</td>\n",
       "      <td>1459</td>\n",
       "      <td>155c9e1c32bd0fa2</td>\n",
       "      <td>d8babe2d19fa0c08</td>\n",
       "      <td>NaN</td>\n",
       "      <td>NaN</td>\n",
       "      <td>6d55c54c8b1056fb</td>\n",
       "      <td>...</td>\n",
       "      <td>6a152657aae3ce72</td>\n",
       "      <td>2845</td>\n",
       "      <td>9a8ee16bde15e38a</td>\n",
       "      <td>NaN</td>\n",
       "      <td>NaN</td>\n",
       "      <td>ww4k</td>\n",
       "      <td>102.0</td>\n",
       "      <td>NaN</td>\n",
       "      <td>NaN</td>\n",
       "      <td>844b960acf4a57dc</td>\n",
       "    </tr>\n",
       "    <tr>\n",
       "      <th>198909</th>\n",
       "      <td>58214</td>\n",
       "      <td>140</td>\n",
       "      <td>18</td>\n",
       "      <td>13:44:14</td>\n",
       "      <td>2546</td>\n",
       "      <td>c5fc631370cabc0d</td>\n",
       "      <td>11382423588e20f5</td>\n",
       "      <td>NaN</td>\n",
       "      <td>NaN</td>\n",
       "      <td>c2f2023d279665b2</td>\n",
       "      <td>...</td>\n",
       "      <td>ee7a198e570cd9eb</td>\n",
       "      <td>100</td>\n",
       "      <td>NaN</td>\n",
       "      <td>NaN</td>\n",
       "      <td>NaN</td>\n",
       "      <td>ws0c</td>\n",
       "      <td>NaN</td>\n",
       "      <td>NaN</td>\n",
       "      <td>NaN</td>\n",
       "      <td>4487c1b902ad5b7c</td>\n",
       "    </tr>\n",
       "    <tr>\n",
       "      <th>23071</th>\n",
       "      <td>16188</td>\n",
       "      <td>102</td>\n",
       "      <td>8</td>\n",
       "      <td>08:53:39</td>\n",
       "      <td>2818</td>\n",
       "      <td>9451ef3c5a0d6807</td>\n",
       "      <td>3bd5cf7c40962299</td>\n",
       "      <td>NaN</td>\n",
       "      <td>NaN</td>\n",
       "      <td>61bfb66c928f36ac</td>\n",
       "      <td>...</td>\n",
       "      <td>be49decb10d6b19e</td>\n",
       "      <td>100</td>\n",
       "      <td>1ca672c7cb34af43</td>\n",
       "      <td>210897bde3555667</td>\n",
       "      <td>f11f38598ce9a9ca</td>\n",
       "      <td>NaN</td>\n",
       "      <td>102.0</td>\n",
       "      <td>NaN</td>\n",
       "      <td>NaN</td>\n",
       "      <td>01c7d9583fd58960</td>\n",
       "    </tr>\n",
       "    <tr>\n",
       "      <th>99746</th>\n",
       "      <td>18191</td>\n",
       "      <td>102</td>\n",
       "      <td>25</td>\n",
       "      <td>17:23:38</td>\n",
       "      <td>13691</td>\n",
       "      <td>155c9e1c32bd0fa2</td>\n",
       "      <td>3bd5cf7c40962299</td>\n",
       "      <td>NaN</td>\n",
       "      <td>NaN</td>\n",
       "      <td>61bfb66c928f36ac</td>\n",
       "      <td>...</td>\n",
       "      <td>20a52c6535d3ae71</td>\n",
       "      <td>100</td>\n",
       "      <td>cf6e3a074407c379</td>\n",
       "      <td>337193b3dff200a7</td>\n",
       "      <td>a20cb16cb8c55368</td>\n",
       "      <td>NaN</td>\n",
       "      <td>102.0</td>\n",
       "      <td>NaN</td>\n",
       "      <td>NaN</td>\n",
       "      <td>b3fa44731caf29e5</td>\n",
       "    </tr>\n",
       "    <tr>\n",
       "      <th>34350</th>\n",
       "      <td>12671</td>\n",
       "      <td>102</td>\n",
       "      <td>14</td>\n",
       "      <td>10:25:30</td>\n",
       "      <td>102</td>\n",
       "      <td>acdbdb842ac20f1e</td>\n",
       "      <td>922720f3827ccef8</td>\n",
       "      <td>NaN</td>\n",
       "      <td>NaN</td>\n",
       "      <td>26bcf43a19df14c8</td>\n",
       "      <td>...</td>\n",
       "      <td>4ebefa4bec37c2ba</td>\n",
       "      <td>39292</td>\n",
       "      <td>9fefed0a981dcb7a</td>\n",
       "      <td>NaN</td>\n",
       "      <td>NaN</td>\n",
       "      <td>wtq3</td>\n",
       "      <td>102.0</td>\n",
       "      <td>64a3d9560ea1c954</td>\n",
       "      <td>1.0</td>\n",
       "      <td>5a896c0edff8e3c9</td>\n",
       "    </tr>\n",
       "  </tbody>\n",
       "</table>\n",
       "<p>5 rows × 27 columns</p>\n",
       "</div>"
      ],
      "text/plain": [
       "          UID  channel  day      time  trans_amt          amt_src1  \\\n",
       "32575   23131      102   30  17:13:21       1459  155c9e1c32bd0fa2   \n",
       "198909  58214      140   18  13:44:14       2546  c5fc631370cabc0d   \n",
       "23071   16188      102    8  08:53:39       2818  9451ef3c5a0d6807   \n",
       "99746   18191      102   25  17:23:38      13691  155c9e1c32bd0fa2   \n",
       "34350   12671      102   14  10:25:30        102  acdbdb842ac20f1e   \n",
       "\n",
       "                merchant code1 code2       trans_type1        ...         \\\n",
       "32575   d8babe2d19fa0c08   NaN   NaN  6d55c54c8b1056fb        ...          \n",
       "198909  11382423588e20f5   NaN   NaN  c2f2023d279665b2        ...          \n",
       "23071   3bd5cf7c40962299   NaN   NaN  61bfb66c928f36ac        ...          \n",
       "99746   3bd5cf7c40962299   NaN   NaN  61bfb66c928f36ac        ...          \n",
       "34350   922720f3827ccef8   NaN   NaN  26bcf43a19df14c8        ...          \n",
       "\n",
       "                     ip1    bal          amt_src2           acc_id2  \\\n",
       "32575   6a152657aae3ce72   2845  9a8ee16bde15e38a               NaN   \n",
       "198909  ee7a198e570cd9eb    100               NaN               NaN   \n",
       "23071   be49decb10d6b19e    100  1ca672c7cb34af43  210897bde3555667   \n",
       "99746   20a52c6535d3ae71    100  cf6e3a074407c379  337193b3dff200a7   \n",
       "34350   4ebefa4bec37c2ba  39292  9fefed0a981dcb7a               NaN   \n",
       "\n",
       "                 acc_id3 geo_code trans_type2       market_code  market_type  \\\n",
       "32575                NaN     ww4k       102.0               NaN          NaN   \n",
       "198909               NaN     ws0c         NaN               NaN          NaN   \n",
       "23071   f11f38598ce9a9ca      NaN       102.0               NaN          NaN   \n",
       "99746   a20cb16cb8c55368      NaN       102.0               NaN          NaN   \n",
       "34350                NaN     wtq3       102.0  64a3d9560ea1c954          1.0   \n",
       "\n",
       "                 ip1_sub  \n",
       "32575   844b960acf4a57dc  \n",
       "198909  4487c1b902ad5b7c  \n",
       "23071   01c7d9583fd58960  \n",
       "99746   b3fa44731caf29e5  \n",
       "34350   5a896c0edff8e3c9  \n",
       "\n",
       "[5 rows x 27 columns]"
      ]
     },
     "execution_count": 18,
     "metadata": {},
     "output_type": "execute_result"
    }
   ],
   "source": [
    "transaction_train.sample(5)"
   ]
  },
  {
   "cell_type": "code",
   "execution_count": 19,
   "metadata": {},
   "outputs": [
    {
     "data": {
      "text/plain": [
       "30542"
      ]
     },
     "execution_count": 19,
     "metadata": {},
     "output_type": "execute_result"
    }
   ],
   "source": [
    "len(transaction_train['UID'].unique())"
   ]
  },
  {
   "cell_type": "code",
   "execution_count": 20,
   "metadata": {},
   "outputs": [
    {
     "data": {
      "text/html": [
       "<div>\n",
       "<style scoped>\n",
       "    .dataframe tbody tr th:only-of-type {\n",
       "        vertical-align: middle;\n",
       "    }\n",
       "\n",
       "    .dataframe tbody tr th {\n",
       "        vertical-align: top;\n",
       "    }\n",
       "\n",
       "    .dataframe thead th {\n",
       "        text-align: right;\n",
       "    }\n",
       "</style>\n",
       "<table border=\"1\" class=\"dataframe\">\n",
       "  <thead>\n",
       "    <tr style=\"text-align: right;\">\n",
       "      <th></th>\n",
       "      <th>UID</th>\n",
       "      <th>Tag</th>\n",
       "    </tr>\n",
       "  </thead>\n",
       "  <tbody>\n",
       "    <tr>\n",
       "      <th>0</th>\n",
       "      <td>10000</td>\n",
       "      <td>1</td>\n",
       "    </tr>\n",
       "    <tr>\n",
       "      <th>1</th>\n",
       "      <td>10001</td>\n",
       "      <td>0</td>\n",
       "    </tr>\n",
       "    <tr>\n",
       "      <th>2</th>\n",
       "      <td>10002</td>\n",
       "      <td>0</td>\n",
       "    </tr>\n",
       "    <tr>\n",
       "      <th>3</th>\n",
       "      <td>10003</td>\n",
       "      <td>0</td>\n",
       "    </tr>\n",
       "    <tr>\n",
       "      <th>4</th>\n",
       "      <td>10004</td>\n",
       "      <td>0</td>\n",
       "    </tr>\n",
       "  </tbody>\n",
       "</table>\n",
       "</div>"
      ],
      "text/plain": [
       "     UID  Tag\n",
       "0  10000    1\n",
       "1  10001    0\n",
       "2  10002    0\n",
       "3  10003    0\n",
       "4  10004    0"
      ]
     },
     "execution_count": 20,
     "metadata": {},
     "output_type": "execute_result"
    }
   ],
   "source": [
    "tag_train.head()"
   ]
  },
  {
   "cell_type": "markdown",
   "metadata": {},
   "source": [
    "# 2. data merge"
   ]
  },
  {
   "cell_type": "code",
   "execution_count": 21,
   "metadata": {},
   "outputs": [],
   "source": [
    "# operation_train + tag\n",
    "# operation_tag_train = pd.merge(operation_train, tag_train, how='left', left_on='UID',right_on='UID')\n",
    "# operation_tag_train.to_csv(data_dir + 'operation_tag_train.csv', index=False)"
   ]
  },
  {
   "cell_type": "code",
   "execution_count": 22,
   "metadata": {},
   "outputs": [],
   "source": [
    "# print(\"number of operation tag: {}\".format(len(operation_tag_train)))\n",
    "# operation_tag_train.sample(5)"
   ]
  },
  {
   "cell_type": "code",
   "execution_count": 23,
   "metadata": {},
   "outputs": [],
   "source": [
    "# transaction_train + tag\n",
    "# transaction_tag_train = pd.merge(transaction_train, tag_train, how='left', left_on='UID',right_on='UID')\n",
    "# transaction_tag_train.to_csv(data_dir + 'transaction_tag_train.csv', index=False)"
   ]
  },
  {
   "cell_type": "code",
   "execution_count": 24,
   "metadata": {},
   "outputs": [],
   "source": [
    "# print(\"number of transaction tag: {}\".format(len(transaction_tag_train)))\n",
    "# transaction_tag_train.sample(5)"
   ]
  },
  {
   "cell_type": "code",
   "execution_count": 25,
   "metadata": {},
   "outputs": [],
   "source": [
    "# operation_round1 + tag\n",
    "# operation_round1_tag = pd.merge(operation_round1, tag_train, how='left', left_on='UID',right_on='UID')\n",
    "# operation_round1_tag['Tag'].isnull().sum()"
   ]
  },
  {
   "cell_type": "code",
   "execution_count": 26,
   "metadata": {},
   "outputs": [],
   "source": [
    "# operation_transaction_tag = pd.merge(operation_tag_train, transaction_tag_train, how='left', left_on='UID',right_on='UID')\n",
    "# operation_transaction_tag.to_csv(data_dir + 'operation_transaction_tag_train.csv', index=False)"
   ]
  },
  {
   "cell_type": "markdown",
   "metadata": {},
   "source": [
    "# 3. data preprocessing"
   ]
  },
  {
   "cell_type": "markdown",
   "metadata": {},
   "source": [
    "## 3.1 impute missing values"
   ]
  },
  {
   "cell_type": "code",
   "execution_count": 27,
   "metadata": {},
   "outputs": [],
   "source": [
    "# missing rate\n",
    "# operation_train.isnull().sum()/len(operation_train) * 100"
   ]
  },
  {
   "cell_type": "code",
   "execution_count": 28,
   "metadata": {},
   "outputs": [
    {
     "data": {
      "text/plain": [
       "(3229892, 20)"
      ]
     },
     "execution_count": 28,
     "metadata": {},
     "output_type": "execute_result"
    }
   ],
   "source": [
    "n_operation_train = operation_train.shape[0]\n",
    "n_operation_round1 = operation_round1.shape[0]\n",
    "operation_data = pd.concat((operation_train, operation_round1)).reset_index(drop=True)\n",
    "operation_data.shape"
   ]
  },
  {
   "cell_type": "code",
   "execution_count": 29,
   "metadata": {},
   "outputs": [
    {
     "name": "stdout",
     "output_type": "stream",
     "text": [
      "the number of missing item: 15\n"
     ]
    },
    {
     "data": {
      "text/html": [
       "<div>\n",
       "<style scoped>\n",
       "    .dataframe tbody tr th:only-of-type {\n",
       "        vertical-align: middle;\n",
       "    }\n",
       "\n",
       "    .dataframe tbody tr th {\n",
       "        vertical-align: top;\n",
       "    }\n",
       "\n",
       "    .dataframe thead th {\n",
       "        text-align: right;\n",
       "    }\n",
       "</style>\n",
       "<table border=\"1\" class=\"dataframe\">\n",
       "  <thead>\n",
       "    <tr style=\"text-align: right;\">\n",
       "      <th></th>\n",
       "      <th>missing ratio</th>\n",
       "    </tr>\n",
       "  </thead>\n",
       "  <tbody>\n",
       "    <tr>\n",
       "      <th>success</th>\n",
       "      <td>6.003544</td>\n",
       "    </tr>\n",
       "    <tr>\n",
       "      <th>device1</th>\n",
       "      <td>18.243861</td>\n",
       "    </tr>\n",
       "    <tr>\n",
       "      <th>version</th>\n",
       "      <td>18.369809</td>\n",
       "    </tr>\n",
       "    <tr>\n",
       "      <th>ip1</th>\n",
       "      <td>19.060049</td>\n",
       "    </tr>\n",
       "    <tr>\n",
       "      <th>ip1_sub</th>\n",
       "      <td>19.060049</td>\n",
       "    </tr>\n",
       "    <tr>\n",
       "      <th>device2</th>\n",
       "      <td>28.769352</td>\n",
       "    </tr>\n",
       "    <tr>\n",
       "      <th>device_code1</th>\n",
       "      <td>31.105870</td>\n",
       "    </tr>\n",
       "    <tr>\n",
       "      <th>device_code2</th>\n",
       "      <td>32.981443</td>\n",
       "    </tr>\n",
       "    <tr>\n",
       "      <th>geo_code</th>\n",
       "      <td>36.206938</td>\n",
       "    </tr>\n",
       "    <tr>\n",
       "      <th>mac2</th>\n",
       "      <td>41.482935</td>\n",
       "    </tr>\n",
       "    <tr>\n",
       "      <th>wifi</th>\n",
       "      <td>69.635858</td>\n",
       "    </tr>\n",
       "    <tr>\n",
       "      <th>device_code3</th>\n",
       "      <td>87.204092</td>\n",
       "    </tr>\n",
       "    <tr>\n",
       "      <th>ip2</th>\n",
       "      <td>88.839998</td>\n",
       "    </tr>\n",
       "    <tr>\n",
       "      <th>ip2_sub</th>\n",
       "      <td>88.839998</td>\n",
       "    </tr>\n",
       "    <tr>\n",
       "      <th>mac1</th>\n",
       "      <td>89.604018</td>\n",
       "    </tr>\n",
       "  </tbody>\n",
       "</table>\n",
       "</div>"
      ],
      "text/plain": [
       "              missing ratio\n",
       "success            6.003544\n",
       "device1           18.243861\n",
       "version           18.369809\n",
       "ip1               19.060049\n",
       "ip1_sub           19.060049\n",
       "device2           28.769352\n",
       "device_code1      31.105870\n",
       "device_code2      32.981443\n",
       "geo_code          36.206938\n",
       "mac2              41.482935\n",
       "wifi              69.635858\n",
       "device_code3      87.204092\n",
       "ip2               88.839998\n",
       "ip2_sub           88.839998\n",
       "mac1              89.604018"
      ]
     },
     "execution_count": 29,
     "metadata": {},
     "output_type": "execute_result"
    }
   ],
   "source": [
    "operation_data_na = (operation_data.isnull().sum()/len(operation_data)) * 100\n",
    "operation_data_na = operation_data_na.drop(operation_data_na[operation_data_na == 0].index).sort_values(ascending = True)\n",
    "missing_operation_data = pd.DataFrame({'missing ratio': operation_data_na})\n",
    "print(\"the number of missing item: {}\".format(len(missing_operation_data)))\n",
    "missing_operation_data"
   ]
  },
  {
   "cell_type": "markdown",
   "metadata": {},
   "source": [
    "success"
   ]
  },
  {
   "cell_type": "code",
   "execution_count": 30,
   "metadata": {},
   "outputs": [],
   "source": [
    "operation_data['success'] = operation_data['success'].fillna(2)"
   ]
  },
  {
   "cell_type": "markdown",
   "metadata": {},
   "source": [
    "device1 device2 device_code1 device_code2 device_code3"
   ]
  },
  {
   "cell_type": "code",
   "execution_count": 31,
   "metadata": {},
   "outputs": [],
   "source": [
    "uid_device = pd.DataFrame()\n",
    "device = operation_data.groupby(['UID']).count()['device2']\n",
    "uid_device['UID'] = device.index\n",
    "uid_device['device'] = device.values"
   ]
  },
  {
   "cell_type": "code",
   "execution_count": 32,
   "metadata": {},
   "outputs": [],
   "source": [
    "# device\n",
    "operation_data.drop(['device1', 'device2', 'device_code1', 'device_code2', 'device_code3'], axis = 1, inplace = True)\n",
    "operation_data = pd.merge(operation_data, uid_device, how='left', left_on='UID',right_on='UID')\n",
    "operation_data['device'] = operation_data['device'].fillna(0)\n",
    "mean = operation_data['device'].mean()\n",
    "std = operation_data['device'].std()\n",
    "operation_data['device'] = (operation_data['device'] - mean)/std"
   ]
  },
  {
   "cell_type": "markdown",
   "metadata": {},
   "source": [
    "version"
   ]
  },
  {
   "cell_type": "code",
   "execution_count": 33,
   "metadata": {},
   "outputs": [],
   "source": [
    "operation_data.drop('version', axis=1, inplace = True)"
   ]
  },
  {
   "cell_type": "markdown",
   "metadata": {},
   "source": [
    "ip1 ip1_sub1"
   ]
  },
  {
   "cell_type": "code",
   "execution_count": 34,
   "metadata": {},
   "outputs": [],
   "source": [
    "uid_ip1 = pd.DataFrame()\n",
    "ip1 = operation_data.groupby(['UID']).count()['ip1_sub']\n",
    "uid_ip1['UID'] = ip1.index\n",
    "uid_ip1['ip1'] = ip1.values"
   ]
  },
  {
   "cell_type": "code",
   "execution_count": 35,
   "metadata": {},
   "outputs": [],
   "source": [
    "operation_data.drop(['ip1_sub', 'ip1'], axis = 1, inplace = True)\n",
    "operation_data = pd.merge(operation_data, uid_ip1, how='left', left_on='UID',right_on='UID')\n",
    "operation_data['ip1'] = operation_data['ip1'].fillna(0)\n",
    "mean = operation_data['ip1'].mean()\n",
    "std = operation_data['ip1'].std()\n",
    "operation_data['ip1'] = (operation_data['ip1'] - mean)/std"
   ]
  },
  {
   "cell_type": "markdown",
   "metadata": {},
   "source": [
    "ip2 + ip2_sub"
   ]
  },
  {
   "cell_type": "code",
   "execution_count": 36,
   "metadata": {},
   "outputs": [],
   "source": [
    "uid_ip2 = pd.DataFrame()\n",
    "ip2 = operation_data.groupby(['UID']).count()['ip2_sub']\n",
    "uid_ip2['UID'] = ip2.index\n",
    "uid_ip2['ip2'] = ip2.values"
   ]
  },
  {
   "cell_type": "code",
   "execution_count": 37,
   "metadata": {},
   "outputs": [],
   "source": [
    "operation_data.drop(['ip2_sub', 'ip2'], axis = 1, inplace = True)\n",
    "operation_data = pd.merge(operation_data, uid_ip2, how='left', left_on='UID',right_on='UID')\n",
    "operation_data['ip2'] = operation_data['ip2'].fillna(0)\n",
    "mean = operation_data['ip2'].mean()\n",
    "std = operation_data['ip2'].std()\n",
    "operation_data['ip2'] = (operation_data['ip2'] - mean)/std"
   ]
  },
  {
   "cell_type": "markdown",
   "metadata": {},
   "source": [
    "geo_cod"
   ]
  },
  {
   "cell_type": "code",
   "execution_count": 38,
   "metadata": {},
   "outputs": [],
   "source": [
    "uid_geo = pd.DataFrame()\n",
    "geo = operation_data.groupby(['UID']).count()['geo_code']\n",
    "uid_geo['UID'] = geo.index\n",
    "uid_geo['geo_code'] = geo.values"
   ]
  },
  {
   "cell_type": "code",
   "execution_count": 39,
   "metadata": {},
   "outputs": [],
   "source": [
    "operation_data.drop('geo_code', axis=1, inplace=True)\n",
    "operation_data = pd.merge(operation_data, uid_geo, how='left', left_on='UID',right_on='UID')\n",
    "operation_data['geo_code'] = operation_data['geo_code'].fillna(0)\n",
    "mean = operation_data['geo_code'].mean()\n",
    "std = operation_data['geo_code'].std()\n",
    "operation_data['geo_code'] = (operation_data['geo_code'] - mean)/std"
   ]
  },
  {
   "cell_type": "markdown",
   "metadata": {},
   "source": [
    "mac1 + mac2 +wifi"
   ]
  },
  {
   "cell_type": "code",
   "execution_count": 40,
   "metadata": {},
   "outputs": [],
   "source": [
    "operation_data.drop(['mac1', 'mac2', 'wifi'], axis=1, inplace=True)"
   ]
  },
  {
   "cell_type": "code",
   "execution_count": 41,
   "metadata": {},
   "outputs": [
    {
     "name": "stdout",
     "output_type": "stream",
     "text": [
      "the number of missing item: 0\n"
     ]
    },
    {
     "data": {
      "text/html": [
       "<div>\n",
       "<style scoped>\n",
       "    .dataframe tbody tr th:only-of-type {\n",
       "        vertical-align: middle;\n",
       "    }\n",
       "\n",
       "    .dataframe tbody tr th {\n",
       "        vertical-align: top;\n",
       "    }\n",
       "\n",
       "    .dataframe thead th {\n",
       "        text-align: right;\n",
       "    }\n",
       "</style>\n",
       "<table border=\"1\" class=\"dataframe\">\n",
       "  <thead>\n",
       "    <tr style=\"text-align: right;\">\n",
       "      <th></th>\n",
       "      <th>missing ratio</th>\n",
       "    </tr>\n",
       "  </thead>\n",
       "  <tbody>\n",
       "  </tbody>\n",
       "</table>\n",
       "</div>"
      ],
      "text/plain": [
       "Empty DataFrame\n",
       "Columns: [missing ratio]\n",
       "Index: []"
      ]
     },
     "execution_count": 41,
     "metadata": {},
     "output_type": "execute_result"
    }
   ],
   "source": [
    "operation_data_na = (operation_data.isnull().sum()/len(operation_data)) * 100\n",
    "operation_data_na = operation_data_na.drop(operation_data_na[operation_data_na == 0].index).sort_values(ascending = True)\n",
    "missing_operation_data = pd.DataFrame({'missing ratio': operation_data_na})\n",
    "print(\"the number of missing item: {}\".format(len(missing_operation_data)))\n",
    "missing_operation_data"
   ]
  },
  {
   "cell_type": "code",
   "execution_count": 42,
   "metadata": {},
   "outputs": [
    {
     "data": {
      "text/plain": [
       "(433635, 27)"
      ]
     },
     "execution_count": 42,
     "metadata": {},
     "output_type": "execute_result"
    }
   ],
   "source": [
    "n_transaction_train = transaction_train.shape[0]\n",
    "n_transaction_round1 = transaction_round1.shape[0]\n",
    "transaction_data = pd.concat((transaction_train, transaction_round1)).reset_index(drop=True)\n",
    "transaction_data.shape"
   ]
  },
  {
   "cell_type": "code",
   "execution_count": 43,
   "metadata": {},
   "outputs": [
    {
     "name": "stdout",
     "output_type": "stream",
     "text": [
      "the number of missing item: 18\n"
     ]
    },
    {
     "data": {
      "text/html": [
       "<div>\n",
       "<style scoped>\n",
       "    .dataframe tbody tr th:only-of-type {\n",
       "        vertical-align: middle;\n",
       "    }\n",
       "\n",
       "    .dataframe tbody tr th {\n",
       "        vertical-align: top;\n",
       "    }\n",
       "\n",
       "    .dataframe thead th {\n",
       "        text-align: right;\n",
       "    }\n",
       "</style>\n",
       "<table border=\"1\" class=\"dataframe\">\n",
       "  <thead>\n",
       "    <tr style=\"text-align: right;\">\n",
       "      <th></th>\n",
       "      <th>missing ratio</th>\n",
       "    </tr>\n",
       "  </thead>\n",
       "  <tbody>\n",
       "    <tr>\n",
       "      <th>device2</th>\n",
       "      <td>15.716905</td>\n",
       "    </tr>\n",
       "    <tr>\n",
       "      <th>ip1_sub</th>\n",
       "      <td>16.312106</td>\n",
       "    </tr>\n",
       "    <tr>\n",
       "      <th>ip1</th>\n",
       "      <td>16.312106</td>\n",
       "    </tr>\n",
       "    <tr>\n",
       "      <th>trans_type2</th>\n",
       "      <td>16.665398</td>\n",
       "    </tr>\n",
       "    <tr>\n",
       "      <th>device1</th>\n",
       "      <td>18.293496</td>\n",
       "    </tr>\n",
       "    <tr>\n",
       "      <th>geo_code</th>\n",
       "      <td>26.047482</td>\n",
       "    </tr>\n",
       "    <tr>\n",
       "      <th>device_code1</th>\n",
       "      <td>35.190195</td>\n",
       "    </tr>\n",
       "    <tr>\n",
       "      <th>mac1</th>\n",
       "      <td>35.357386</td>\n",
       "    </tr>\n",
       "    <tr>\n",
       "      <th>device_code2</th>\n",
       "      <td>37.967184</td>\n",
       "    </tr>\n",
       "    <tr>\n",
       "      <th>amt_src2</th>\n",
       "      <td>47.447277</td>\n",
       "    </tr>\n",
       "    <tr>\n",
       "      <th>acc_id1</th>\n",
       "      <td>62.292481</td>\n",
       "    </tr>\n",
       "    <tr>\n",
       "      <th>device_code3</th>\n",
       "      <td>82.830260</td>\n",
       "    </tr>\n",
       "    <tr>\n",
       "      <th>acc_id3</th>\n",
       "      <td>88.861831</td>\n",
       "    </tr>\n",
       "    <tr>\n",
       "      <th>acc_id2</th>\n",
       "      <td>89.003655</td>\n",
       "    </tr>\n",
       "    <tr>\n",
       "      <th>market_type</th>\n",
       "      <td>90.448188</td>\n",
       "    </tr>\n",
       "    <tr>\n",
       "      <th>market_code</th>\n",
       "      <td>90.448188</td>\n",
       "    </tr>\n",
       "    <tr>\n",
       "      <th>code1</th>\n",
       "      <td>91.311356</td>\n",
       "    </tr>\n",
       "    <tr>\n",
       "      <th>code2</th>\n",
       "      <td>98.708361</td>\n",
       "    </tr>\n",
       "  </tbody>\n",
       "</table>\n",
       "</div>"
      ],
      "text/plain": [
       "              missing ratio\n",
       "device2           15.716905\n",
       "ip1_sub           16.312106\n",
       "ip1               16.312106\n",
       "trans_type2       16.665398\n",
       "device1           18.293496\n",
       "geo_code          26.047482\n",
       "device_code1      35.190195\n",
       "mac1              35.357386\n",
       "device_code2      37.967184\n",
       "amt_src2          47.447277\n",
       "acc_id1           62.292481\n",
       "device_code3      82.830260\n",
       "acc_id3           88.861831\n",
       "acc_id2           89.003655\n",
       "market_type       90.448188\n",
       "market_code       90.448188\n",
       "code1             91.311356\n",
       "code2             98.708361"
      ]
     },
     "execution_count": 43,
     "metadata": {},
     "output_type": "execute_result"
    }
   ],
   "source": [
    "transaction_data_na = (transaction_data.isnull().sum()/len(transaction_data)) * 100\n",
    "transaction_data_na = transaction_data_na.drop(transaction_data_na[transaction_data_na == 0].index).sort_values(ascending = True)\n",
    "missing_transaction_data = pd.DataFrame({'missing ratio': transaction_data_na})\n",
    "print(\"the number of missing item: {}\".format(len(missing_transaction_data)))\n",
    "missing_transaction_data"
   ]
  },
  {
   "cell_type": "markdown",
   "metadata": {},
   "source": [
    "trans_type2"
   ]
  },
  {
   "cell_type": "code",
   "execution_count": 44,
   "metadata": {},
   "outputs": [
    {
     "data": {
      "text/plain": [
       "array([102., 105.,  nan, 103., 104.])"
      ]
     },
     "execution_count": 44,
     "metadata": {},
     "output_type": "execute_result"
    }
   ],
   "source": [
    "# trans_type2\n",
    "transaction_data['trans_type2'].unique()"
   ]
  },
  {
   "cell_type": "code",
   "execution_count": 45,
   "metadata": {},
   "outputs": [],
   "source": [
    "transaction_data['trans_type2'] = transaction_data['trans_type2'].fillna(100)"
   ]
  },
  {
   "cell_type": "markdown",
   "metadata": {},
   "source": [
    "ip1_sub and ip1"
   ]
  },
  {
   "cell_type": "code",
   "execution_count": 46,
   "metadata": {},
   "outputs": [
    {
     "data": {
      "text/plain": [
       "35243"
      ]
     },
     "execution_count": 46,
     "metadata": {},
     "output_type": "execute_result"
    }
   ],
   "source": [
    "# ip1_sub\n",
    "len(transaction_data['ip1_sub'].unique())"
   ]
  },
  {
   "cell_type": "code",
   "execution_count": 47,
   "metadata": {},
   "outputs": [
    {
     "data": {
      "text/plain": [
       "125090"
      ]
     },
     "execution_count": 47,
     "metadata": {},
     "output_type": "execute_result"
    }
   ],
   "source": [
    "# ip1\n",
    "len(transaction_data['ip1'].unique())"
   ]
  },
  {
   "cell_type": "code",
   "execution_count": 48,
   "metadata": {},
   "outputs": [],
   "source": [
    "uid_ip = pd.DataFrame()\n",
    "ip = transaction_data.groupby(['UID']).count()['ip1_sub']\n",
    "uid_ip['UID'] = ip.index\n",
    "uid_ip['ip'] = ip.values"
   ]
  },
  {
   "cell_type": "code",
   "execution_count": 49,
   "metadata": {},
   "outputs": [],
   "source": [
    "transaction_data.drop(['ip1_sub', 'ip1'], axis = 1, inplace = True)\n",
    "transaction_data = pd.merge(transaction_data, uid_ip, how='left', left_on='UID',right_on='UID')\n",
    "transaction_data['ip'] = transaction_data['ip'].fillna(0)\n",
    "mean = transaction_data['ip'].mean()\n",
    "std = transaction_data['ip'].std()\n",
    "transaction_data['ip'] = (transaction_data['ip'] - mean)/std"
   ]
  },
  {
   "cell_type": "markdown",
   "metadata": {},
   "source": [
    "device1 + device2 + device_code1 + device_code2 + device_code3"
   ]
  },
  {
   "cell_type": "code",
   "execution_count": 50,
   "metadata": {},
   "outputs": [],
   "source": [
    "uid_device = pd.DataFrame()\n",
    "device = transaction_data.groupby(['UID']).count()['device2']\n",
    "uid_device['UID'] = device.index\n",
    "uid_device['device'] = device.values"
   ]
  },
  {
   "cell_type": "code",
   "execution_count": 51,
   "metadata": {},
   "outputs": [],
   "source": [
    "# device\n",
    "transaction_data.drop(['device1', 'device2', 'device_code1', 'device_code2', 'device_code3'], axis = 1, inplace = True)\n",
    "transaction_data = pd.merge(transaction_data, uid_device, how='left', left_on='UID',right_on='UID')\n",
    "transaction_data['device'] = transaction_data['device'].fillna(0)\n",
    "mean = transaction_data['device'].mean()\n",
    "std = transaction_data['device'].std()\n",
    "transaction_data['device'] = (transaction_data['device'] - mean)/std"
   ]
  },
  {
   "cell_type": "markdown",
   "metadata": {},
   "source": [
    "geo_code"
   ]
  },
  {
   "cell_type": "code",
   "execution_count": 52,
   "metadata": {},
   "outputs": [],
   "source": [
    "uid_geo = pd.DataFrame()\n",
    "geo = transaction_data.groupby(['UID']).count()['geo_code']\n",
    "uid_geo['UID'] = geo.index\n",
    "uid_geo['geo_code'] = geo.values"
   ]
  },
  {
   "cell_type": "code",
   "execution_count": 53,
   "metadata": {},
   "outputs": [],
   "source": [
    "transaction_data.drop('geo_code', axis=1, inplace=True)\n",
    "transaction_data = pd.merge(transaction_data, uid_geo, how='left', left_on='UID',right_on='UID')\n",
    "transaction_data['geo_code'] = transaction_data['geo_code'].fillna(0)\n",
    "mean = transaction_data['geo_code'].mean()\n",
    "std = transaction_data['geo_code'].std()\n",
    "transaction_data['geo_code'] = (transaction_data['geo_code'] - mean)/std"
   ]
  },
  {
   "cell_type": "markdown",
   "metadata": {},
   "source": [
    "amt_src2"
   ]
  },
  {
   "cell_type": "code",
   "execution_count": 54,
   "metadata": {},
   "outputs": [],
   "source": [
    "uid_amt_src = pd.DataFrame()\n",
    "amt_src2 = transaction_data.groupby('UID').count()['amt_src2']\n",
    "uid_amt_src['UID'] = amt_src2.index\n",
    "uid_amt_src['amt_src2'] = amt_src2.values"
   ]
  },
  {
   "cell_type": "code",
   "execution_count": 55,
   "metadata": {},
   "outputs": [],
   "source": [
    "transaction_data.drop('amt_src2', axis=1, inplace=True)\n",
    "transaction_data = pd.merge(transaction_data, uid_amt_src, how='left', left_on='UID',right_on='UID')\n",
    "transaction_data['amt_src2'] = transaction_data['amt_src2'].fillna(0)\n",
    "mean = transaction_data['amt_src2'].mean()\n",
    "std = transaction_data['amt_src2'].std()\n",
    "transaction_data['amt_src2'] = (transaction_data['amt_src2'] - mean)/std"
   ]
  },
  {
   "cell_type": "markdown",
   "metadata": {},
   "source": [
    "market_type"
   ]
  },
  {
   "cell_type": "code",
   "execution_count": 56,
   "metadata": {},
   "outputs": [],
   "source": [
    "transaction_data['market_type'] = transaction_data['market_type'].fillna(0)"
   ]
  },
  {
   "cell_type": "code",
   "execution_count": 57,
   "metadata": {},
   "outputs": [],
   "source": [
    "transaction_data.drop('market_code', axis=1, inplace=True)"
   ]
  },
  {
   "cell_type": "markdown",
   "metadata": {},
   "source": [
    "else"
   ]
  },
  {
   "cell_type": "code",
   "execution_count": 58,
   "metadata": {},
   "outputs": [],
   "source": [
    "transaction_data.drop(['mac1', 'acc_id1', 'acc_id2', 'acc_id3', 'code1', 'code2'], axis=1, inplace=True)"
   ]
  },
  {
   "cell_type": "code",
   "execution_count": 59,
   "metadata": {},
   "outputs": [],
   "source": [
    "transaction_data.drop('merchant', axis=1, inplace=True)"
   ]
  },
  {
   "cell_type": "code",
   "execution_count": 60,
   "metadata": {},
   "outputs": [
    {
     "name": "stdout",
     "output_type": "stream",
     "text": [
      "the number of missing item: 0\n"
     ]
    },
    {
     "data": {
      "text/html": [
       "<div>\n",
       "<style scoped>\n",
       "    .dataframe tbody tr th:only-of-type {\n",
       "        vertical-align: middle;\n",
       "    }\n",
       "\n",
       "    .dataframe tbody tr th {\n",
       "        vertical-align: top;\n",
       "    }\n",
       "\n",
       "    .dataframe thead th {\n",
       "        text-align: right;\n",
       "    }\n",
       "</style>\n",
       "<table border=\"1\" class=\"dataframe\">\n",
       "  <thead>\n",
       "    <tr style=\"text-align: right;\">\n",
       "      <th></th>\n",
       "      <th>missing ratio</th>\n",
       "    </tr>\n",
       "  </thead>\n",
       "  <tbody>\n",
       "  </tbody>\n",
       "</table>\n",
       "</div>"
      ],
      "text/plain": [
       "Empty DataFrame\n",
       "Columns: [missing ratio]\n",
       "Index: []"
      ]
     },
     "execution_count": 60,
     "metadata": {},
     "output_type": "execute_result"
    }
   ],
   "source": [
    "transaction_data_na = (transaction_data.isnull().sum()/len(transaction_data)) * 100\n",
    "transaction_data_na = transaction_data_na.drop(transaction_data_na[transaction_data_na == 0].index).sort_values(ascending = True)\n",
    "missing_transaction_data = pd.DataFrame({'missing ratio': transaction_data_na})\n",
    "print(\"the number of missing item: {}\".format(len(missing_transaction_data)))\n",
    "missing_transaction_data"
   ]
  },
  {
   "cell_type": "markdown",
   "metadata": {},
   "source": [
    "##  3.2 transform variables"
   ]
  },
  {
   "cell_type": "code",
   "execution_count": 61,
   "metadata": {},
   "outputs": [
    {
     "data": {
      "text/html": [
       "<div>\n",
       "<style scoped>\n",
       "    .dataframe tbody tr th:only-of-type {\n",
       "        vertical-align: middle;\n",
       "    }\n",
       "\n",
       "    .dataframe tbody tr th {\n",
       "        vertical-align: top;\n",
       "    }\n",
       "\n",
       "    .dataframe thead th {\n",
       "        text-align: right;\n",
       "    }\n",
       "</style>\n",
       "<table border=\"1\" class=\"dataframe\">\n",
       "  <thead>\n",
       "    <tr style=\"text-align: right;\">\n",
       "      <th></th>\n",
       "      <th>UID</th>\n",
       "      <th>day</th>\n",
       "      <th>mode</th>\n",
       "      <th>success</th>\n",
       "      <th>time</th>\n",
       "      <th>os</th>\n",
       "      <th>device</th>\n",
       "      <th>ip1</th>\n",
       "      <th>ip2</th>\n",
       "      <th>geo_code</th>\n",
       "    </tr>\n",
       "  </thead>\n",
       "  <tbody>\n",
       "    <tr>\n",
       "      <th>2379704</th>\n",
       "      <td>75544</td>\n",
       "      <td>28</td>\n",
       "      <td>cd75f033b0488ace</td>\n",
       "      <td>1.0</td>\n",
       "      <td>15:57:24</td>\n",
       "      <td>200</td>\n",
       "      <td>-0.545154</td>\n",
       "      <td>-0.537470</td>\n",
       "      <td>-0.180007</td>\n",
       "      <td>-0.472030</td>\n",
       "    </tr>\n",
       "    <tr>\n",
       "      <th>1263180</th>\n",
       "      <td>67065</td>\n",
       "      <td>22</td>\n",
       "      <td>d25caee90b27fa9b</td>\n",
       "      <td>1.0</td>\n",
       "      <td>12:43:31</td>\n",
       "      <td>102</td>\n",
       "      <td>0.747700</td>\n",
       "      <td>0.977846</td>\n",
       "      <td>-0.339527</td>\n",
       "      <td>1.145108</td>\n",
       "    </tr>\n",
       "    <tr>\n",
       "      <th>3154195</th>\n",
       "      <td>70635</td>\n",
       "      <td>9</td>\n",
       "      <td>3b02bcd4b685d7a8</td>\n",
       "      <td>1.0</td>\n",
       "      <td>07:35:39</td>\n",
       "      <td>200</td>\n",
       "      <td>-0.295729</td>\n",
       "      <td>-0.281874</td>\n",
       "      <td>1.301246</td>\n",
       "      <td>-0.514688</td>\n",
       "    </tr>\n",
       "    <tr>\n",
       "      <th>1756822</th>\n",
       "      <td>33783</td>\n",
       "      <td>31</td>\n",
       "      <td>d21cae2b73884a8d</td>\n",
       "      <td>1.0</td>\n",
       "      <td>10:18:34</td>\n",
       "      <td>200</td>\n",
       "      <td>-0.137759</td>\n",
       "      <td>-0.143122</td>\n",
       "      <td>0.401100</td>\n",
       "      <td>-0.045447</td>\n",
       "    </tr>\n",
       "    <tr>\n",
       "      <th>3189373</th>\n",
       "      <td>80044</td>\n",
       "      <td>22</td>\n",
       "      <td>c8741ce15ceac2a4</td>\n",
       "      <td>1.0</td>\n",
       "      <td>10:16:25</td>\n",
       "      <td>103</td>\n",
       "      <td>-0.362242</td>\n",
       "      <td>-0.369507</td>\n",
       "      <td>-0.407892</td>\n",
       "      <td>-0.557347</td>\n",
       "    </tr>\n",
       "  </tbody>\n",
       "</table>\n",
       "</div>"
      ],
      "text/plain": [
       "           UID  day              mode  success      time   os    device  \\\n",
       "2379704  75544   28  cd75f033b0488ace      1.0  15:57:24  200 -0.545154   \n",
       "1263180  67065   22  d25caee90b27fa9b      1.0  12:43:31  102  0.747700   \n",
       "3154195  70635    9  3b02bcd4b685d7a8      1.0  07:35:39  200 -0.295729   \n",
       "1756822  33783   31  d21cae2b73884a8d      1.0  10:18:34  200 -0.137759   \n",
       "3189373  80044   22  c8741ce15ceac2a4      1.0  10:16:25  103 -0.362242   \n",
       "\n",
       "              ip1       ip2  geo_code  \n",
       "2379704 -0.537470 -0.180007 -0.472030  \n",
       "1263180  0.977846 -0.339527  1.145108  \n",
       "3154195 -0.281874  1.301246 -0.514688  \n",
       "1756822 -0.143122  0.401100 -0.045447  \n",
       "3189373 -0.369507 -0.407892 -0.557347  "
      ]
     },
     "execution_count": 61,
     "metadata": {},
     "output_type": "execute_result"
    }
   ],
   "source": [
    "operation_data.sample(5)"
   ]
  },
  {
   "cell_type": "code",
   "execution_count": 62,
   "metadata": {},
   "outputs": [],
   "source": [
    "operation_data['time'] = pd.to_datetime(operation_data['time'])\n",
    "operation_data['time'] = operation_data['time'].apply(lambda x:(x-datetime.now()).seconds/3600)"
   ]
  },
  {
   "cell_type": "code",
   "execution_count": 63,
   "metadata": {},
   "outputs": [],
   "source": [
    "mean = operation_data['time'].mean()\n",
    "std = operation_data['time'].std()\n",
    "operation_data['time'] = (operation_data['time'] - mean)/std"
   ]
  },
  {
   "cell_type": "code",
   "execution_count": 64,
   "metadata": {},
   "outputs": [],
   "source": [
    "operation_data['day'] = operation_data['day'].apply(str)\n",
    "operation_data['mode'] = operation_data['mode'].apply(str)\n",
    "operation_data['success'] = operation_data['success'].apply(str)\n",
    "operation_data['os'] = operation_data['os'].apply(str)"
   ]
  },
  {
   "cell_type": "code",
   "execution_count": 65,
   "metadata": {},
   "outputs": [],
   "source": [
    "cols = ['day', 'mode', 'success', 'os']\n",
    "for col in cols:\n",
    "    le = LabelEncoder()\n",
    "    le.fit(list(operation_data[col].values))\n",
    "    operation_data[col]=le.transform(list(operation_data[col].values))"
   ]
  },
  {
   "cell_type": "code",
   "execution_count": 66,
   "metadata": {},
   "outputs": [
    {
     "data": {
      "text/html": [
       "<div>\n",
       "<style scoped>\n",
       "    .dataframe tbody tr th:only-of-type {\n",
       "        vertical-align: middle;\n",
       "    }\n",
       "\n",
       "    .dataframe tbody tr th {\n",
       "        vertical-align: top;\n",
       "    }\n",
       "\n",
       "    .dataframe thead th {\n",
       "        text-align: right;\n",
       "    }\n",
       "</style>\n",
       "<table border=\"1\" class=\"dataframe\">\n",
       "  <thead>\n",
       "    <tr style=\"text-align: right;\">\n",
       "      <th></th>\n",
       "      <th>UID</th>\n",
       "      <th>channel</th>\n",
       "      <th>day</th>\n",
       "      <th>time</th>\n",
       "      <th>trans_amt</th>\n",
       "      <th>amt_src1</th>\n",
       "      <th>trans_type1</th>\n",
       "      <th>bal</th>\n",
       "      <th>trans_type2</th>\n",
       "      <th>market_type</th>\n",
       "      <th>ip</th>\n",
       "      <th>device</th>\n",
       "      <th>geo_code</th>\n",
       "      <th>amt_src2</th>\n",
       "    </tr>\n",
       "  </thead>\n",
       "  <tbody>\n",
       "    <tr>\n",
       "      <th>135538</th>\n",
       "      <td>11361</td>\n",
       "      <td>102</td>\n",
       "      <td>29</td>\n",
       "      <td>10:03:25</td>\n",
       "      <td>2818</td>\n",
       "      <td>155c9e1c32bd0fa2</td>\n",
       "      <td>6d55c54c8b1056fb</td>\n",
       "      <td>100</td>\n",
       "      <td>102.0</td>\n",
       "      <td>2.0</td>\n",
       "      <td>-0.284458</td>\n",
       "      <td>-0.284085</td>\n",
       "      <td>-0.281777</td>\n",
       "      <td>-0.235442</td>\n",
       "    </tr>\n",
       "    <tr>\n",
       "      <th>315224</th>\n",
       "      <td>41866</td>\n",
       "      <td>102</td>\n",
       "      <td>24</td>\n",
       "      <td>08:50:23</td>\n",
       "      <td>190379</td>\n",
       "      <td>b0a5496f0db7f70a</td>\n",
       "      <td>4adc3de71fe1a83c</td>\n",
       "      <td>100</td>\n",
       "      <td>100.0</td>\n",
       "      <td>0.0</td>\n",
       "      <td>-0.127446</td>\n",
       "      <td>-0.182475</td>\n",
       "      <td>-0.300392</td>\n",
       "      <td>-0.087978</td>\n",
       "    </tr>\n",
       "    <tr>\n",
       "      <th>299315</th>\n",
       "      <td>40373</td>\n",
       "      <td>140</td>\n",
       "      <td>29</td>\n",
       "      <td>15:26:15</td>\n",
       "      <td>9385</td>\n",
       "      <td>4d7831c6f695ab19</td>\n",
       "      <td>c2f2023d279665b2</td>\n",
       "      <td>100</td>\n",
       "      <td>105.0</td>\n",
       "      <td>0.0</td>\n",
       "      <td>-0.247514</td>\n",
       "      <td>-0.247136</td>\n",
       "      <td>-0.216622</td>\n",
       "      <td>-0.249486</td>\n",
       "    </tr>\n",
       "    <tr>\n",
       "      <th>413441</th>\n",
       "      <td>79623</td>\n",
       "      <td>140</td>\n",
       "      <td>6</td>\n",
       "      <td>07:30:06</td>\n",
       "      <td>2818</td>\n",
       "      <td>4d7831c6f695ab19</td>\n",
       "      <td>c2f2023d279665b2</td>\n",
       "      <td>100</td>\n",
       "      <td>105.0</td>\n",
       "      <td>0.0</td>\n",
       "      <td>-0.108974</td>\n",
       "      <td>-0.108577</td>\n",
       "      <td>-0.077005</td>\n",
       "      <td>-0.270553</td>\n",
       "    </tr>\n",
       "    <tr>\n",
       "      <th>53355</th>\n",
       "      <td>20981</td>\n",
       "      <td>102</td>\n",
       "      <td>20</td>\n",
       "      <td>22:00:23</td>\n",
       "      <td>1187</td>\n",
       "      <td>acdbdb842ac20f1e</td>\n",
       "      <td>26bcf43a19df14c8</td>\n",
       "      <td>100</td>\n",
       "      <td>102.0</td>\n",
       "      <td>1.0</td>\n",
       "      <td>-0.173626</td>\n",
       "      <td>-0.173238</td>\n",
       "      <td>-0.142160</td>\n",
       "      <td>-0.200332</td>\n",
       "    </tr>\n",
       "  </tbody>\n",
       "</table>\n",
       "</div>"
      ],
      "text/plain": [
       "          UID  channel  day      time  trans_amt          amt_src1  \\\n",
       "135538  11361      102   29  10:03:25       2818  155c9e1c32bd0fa2   \n",
       "315224  41866      102   24  08:50:23     190379  b0a5496f0db7f70a   \n",
       "299315  40373      140   29  15:26:15       9385  4d7831c6f695ab19   \n",
       "413441  79623      140    6  07:30:06       2818  4d7831c6f695ab19   \n",
       "53355   20981      102   20  22:00:23       1187  acdbdb842ac20f1e   \n",
       "\n",
       "             trans_type1  bal  trans_type2  market_type        ip    device  \\\n",
       "135538  6d55c54c8b1056fb  100        102.0          2.0 -0.284458 -0.284085   \n",
       "315224  4adc3de71fe1a83c  100        100.0          0.0 -0.127446 -0.182475   \n",
       "299315  c2f2023d279665b2  100        105.0          0.0 -0.247514 -0.247136   \n",
       "413441  c2f2023d279665b2  100        105.0          0.0 -0.108974 -0.108577   \n",
       "53355   26bcf43a19df14c8  100        102.0          1.0 -0.173626 -0.173238   \n",
       "\n",
       "        geo_code  amt_src2  \n",
       "135538 -0.281777 -0.235442  \n",
       "315224 -0.300392 -0.087978  \n",
       "299315 -0.216622 -0.249486  \n",
       "413441 -0.077005 -0.270553  \n",
       "53355  -0.142160 -0.200332  "
      ]
     },
     "execution_count": 66,
     "metadata": {},
     "output_type": "execute_result"
    }
   ],
   "source": [
    "transaction_data.sample(5)"
   ]
  },
  {
   "cell_type": "code",
   "execution_count": 67,
   "metadata": {},
   "outputs": [],
   "source": [
    "transaction_data['time'] = pd.to_datetime(transaction_data['time'])\n",
    "transaction_data['time'] = transaction_data['time'].apply(lambda x:(x-datetime.now()).seconds/3600)"
   ]
  },
  {
   "cell_type": "code",
   "execution_count": 68,
   "metadata": {},
   "outputs": [],
   "source": [
    "cols = ['time', 'trans_amt', 'bal']\n",
    "for col in cols:\n",
    "    mean = transaction_data[col].mean()\n",
    "    std = transaction_data[col].std()\n",
    "    transaction_data[col] = (transaction_data[col] - mean)/std"
   ]
  },
  {
   "cell_type": "code",
   "execution_count": 69,
   "metadata": {},
   "outputs": [],
   "source": [
    "cols = ['channel', 'day', 'amt_src1', 'trans_type1', 'trans_type2', 'market_type']\n",
    "for col in cols:\n",
    "    le = LabelEncoder()\n",
    "    le.fit(list(transaction_data[col].values))\n",
    "    transaction_data[col] = le.transform(list(transaction_data[col].values))"
   ]
  },
  {
   "cell_type": "code",
   "execution_count": 70,
   "metadata": {},
   "outputs": [],
   "source": [
    "cols = ['day', 'mode', 'success', 'os']\n",
    "for col in cols:\n",
    "    operation_data[col] = operation_data[col].apply(str)"
   ]
  },
  {
   "cell_type": "code",
   "execution_count": 71,
   "metadata": {},
   "outputs": [
    {
     "data": {
      "text/plain": [
       "(1460843, 150)"
      ]
     },
     "execution_count": 71,
     "metadata": {},
     "output_type": "execute_result"
    }
   ],
   "source": [
    "operation_data = pd.get_dummies(operation_data)\n",
    "operation_train = operation_data[:n_operation_train]\n",
    "operation_round1 = operation_data[n_operation_train:]\n",
    "operation_train.shape"
   ]
  },
  {
   "cell_type": "code",
   "execution_count": 72,
   "metadata": {},
   "outputs": [],
   "source": [
    "cols = ['channel', 'day', 'amt_src1', 'trans_type1', 'trans_type2', 'market_type']\n",
    "for col in cols:\n",
    "    transaction_data[col] = transaction_data[col].apply(str)"
   ]
  },
  {
   "cell_type": "code",
   "execution_count": 73,
   "metadata": {},
   "outputs": [
    {
     "data": {
      "text/plain": [
       "(264654, 96)"
      ]
     },
     "execution_count": 73,
     "metadata": {},
     "output_type": "execute_result"
    }
   ],
   "source": [
    "transaction_data = pd.get_dummies(transaction_data)\n",
    "transaction_train = transaction_data[:n_transaction_train]\n",
    "transaction_round1 = transaction_data[n_transaction_train:]\n",
    "transaction_train.shape"
   ]
  },
  {
   "cell_type": "code",
   "execution_count": 74,
   "metadata": {},
   "outputs": [],
   "source": [
    "operation_tag_train = pd.merge(operation_train, tag_train, how='left', left_on='UID',right_on='UID')\n",
    "operation_tag_train.to_csv(data_dir + 'operation_tag_train.csv', index=False)"
   ]
  },
  {
   "cell_type": "code",
   "execution_count": 75,
   "metadata": {},
   "outputs": [],
   "source": [
    "transaction_tag_train = pd.merge(transaction_train, tag_train, how='left', left_on='UID',right_on='UID')\n",
    "transaction_tag_train.to_csv(data_dir + 'transaction_tag_train.csv', index=False)"
   ]
  },
  {
   "cell_type": "markdown",
   "metadata": {},
   "source": [
    "# 4. model deployment"
   ]
  },
  {
   "cell_type": "code",
   "execution_count": 76,
   "metadata": {},
   "outputs": [
    {
     "data": {
      "text/html": [
       "<div>\n",
       "<style scoped>\n",
       "    .dataframe tbody tr th:only-of-type {\n",
       "        vertical-align: middle;\n",
       "    }\n",
       "\n",
       "    .dataframe tbody tr th {\n",
       "        vertical-align: top;\n",
       "    }\n",
       "\n",
       "    .dataframe thead th {\n",
       "        text-align: right;\n",
       "    }\n",
       "</style>\n",
       "<table border=\"1\" class=\"dataframe\">\n",
       "  <thead>\n",
       "    <tr style=\"text-align: right;\">\n",
       "      <th></th>\n",
       "      <th>UID</th>\n",
       "      <th>time</th>\n",
       "      <th>device</th>\n",
       "      <th>ip1</th>\n",
       "      <th>ip2</th>\n",
       "      <th>geo_code</th>\n",
       "      <th>day_0</th>\n",
       "      <th>day_1</th>\n",
       "      <th>day_10</th>\n",
       "      <th>day_11</th>\n",
       "      <th>...</th>\n",
       "      <th>success_1</th>\n",
       "      <th>success_2</th>\n",
       "      <th>os_0</th>\n",
       "      <th>os_1</th>\n",
       "      <th>os_2</th>\n",
       "      <th>os_3</th>\n",
       "      <th>os_4</th>\n",
       "      <th>os_5</th>\n",
       "      <th>os_6</th>\n",
       "      <th>Tag</th>\n",
       "    </tr>\n",
       "  </thead>\n",
       "  <tbody>\n",
       "    <tr>\n",
       "      <th>0</th>\n",
       "      <td>10035</td>\n",
       "      <td>1.098637</td>\n",
       "      <td>-0.212587</td>\n",
       "      <td>-0.252663</td>\n",
       "      <td>-0.407892</td>\n",
       "      <td>-0.154032</td>\n",
       "      <td>0</td>\n",
       "      <td>0</td>\n",
       "      <td>0</td>\n",
       "      <td>0</td>\n",
       "      <td>...</td>\n",
       "      <td>1</td>\n",
       "      <td>0</td>\n",
       "      <td>0</td>\n",
       "      <td>1</td>\n",
       "      <td>0</td>\n",
       "      <td>0</td>\n",
       "      <td>0</td>\n",
       "      <td>0</td>\n",
       "      <td>0</td>\n",
       "      <td>0</td>\n",
       "    </tr>\n",
       "    <tr>\n",
       "      <th>1</th>\n",
       "      <td>16264</td>\n",
       "      <td>-0.315868</td>\n",
       "      <td>-0.062932</td>\n",
       "      <td>-0.084701</td>\n",
       "      <td>0.366917</td>\n",
       "      <td>0.012724</td>\n",
       "      <td>0</td>\n",
       "      <td>0</td>\n",
       "      <td>0</td>\n",
       "      <td>0</td>\n",
       "      <td>...</td>\n",
       "      <td>1</td>\n",
       "      <td>0</td>\n",
       "      <td>0</td>\n",
       "      <td>0</td>\n",
       "      <td>0</td>\n",
       "      <td>0</td>\n",
       "      <td>0</td>\n",
       "      <td>0</td>\n",
       "      <td>1</td>\n",
       "      <td>0</td>\n",
       "    </tr>\n",
       "    <tr>\n",
       "      <th>2</th>\n",
       "      <td>13162</td>\n",
       "      <td>1.144741</td>\n",
       "      <td>-0.615824</td>\n",
       "      <td>-0.595892</td>\n",
       "      <td>-0.407892</td>\n",
       "      <td>-0.537956</td>\n",
       "      <td>0</td>\n",
       "      <td>0</td>\n",
       "      <td>0</td>\n",
       "      <td>0</td>\n",
       "      <td>...</td>\n",
       "      <td>0</td>\n",
       "      <td>0</td>\n",
       "      <td>0</td>\n",
       "      <td>1</td>\n",
       "      <td>0</td>\n",
       "      <td>0</td>\n",
       "      <td>0</td>\n",
       "      <td>0</td>\n",
       "      <td>0</td>\n",
       "      <td>0</td>\n",
       "    </tr>\n",
       "    <tr>\n",
       "      <th>3</th>\n",
       "      <td>21392</td>\n",
       "      <td>-1.644739</td>\n",
       "      <td>-0.495269</td>\n",
       "      <td>-0.475397</td>\n",
       "      <td>-0.407892</td>\n",
       "      <td>-0.398347</td>\n",
       "      <td>0</td>\n",
       "      <td>0</td>\n",
       "      <td>0</td>\n",
       "      <td>0</td>\n",
       "      <td>...</td>\n",
       "      <td>1</td>\n",
       "      <td>0</td>\n",
       "      <td>0</td>\n",
       "      <td>1</td>\n",
       "      <td>0</td>\n",
       "      <td>0</td>\n",
       "      <td>0</td>\n",
       "      <td>0</td>\n",
       "      <td>0</td>\n",
       "      <td>0</td>\n",
       "    </tr>\n",
       "    <tr>\n",
       "      <th>4</th>\n",
       "      <td>18599</td>\n",
       "      <td>0.079218</td>\n",
       "      <td>-0.665709</td>\n",
       "      <td>-0.245361</td>\n",
       "      <td>-0.407892</td>\n",
       "      <td>-0.588371</td>\n",
       "      <td>0</td>\n",
       "      <td>0</td>\n",
       "      <td>0</td>\n",
       "      <td>0</td>\n",
       "      <td>...</td>\n",
       "      <td>1</td>\n",
       "      <td>0</td>\n",
       "      <td>0</td>\n",
       "      <td>1</td>\n",
       "      <td>0</td>\n",
       "      <td>0</td>\n",
       "      <td>0</td>\n",
       "      <td>0</td>\n",
       "      <td>0</td>\n",
       "      <td>1</td>\n",
       "    </tr>\n",
       "  </tbody>\n",
       "</table>\n",
       "<p>5 rows × 151 columns</p>\n",
       "</div>"
      ],
      "text/plain": [
       "     UID      time    device       ip1       ip2  geo_code  day_0  day_1  \\\n",
       "0  10035  1.098637 -0.212587 -0.252663 -0.407892 -0.154032      0      0   \n",
       "1  16264 -0.315868 -0.062932 -0.084701  0.366917  0.012724      0      0   \n",
       "2  13162  1.144741 -0.615824 -0.595892 -0.407892 -0.537956      0      0   \n",
       "3  21392 -1.644739 -0.495269 -0.475397 -0.407892 -0.398347      0      0   \n",
       "4  18599  0.079218 -0.665709 -0.245361 -0.407892 -0.588371      0      0   \n",
       "\n",
       "   day_10  day_11 ...   success_1  success_2  os_0  os_1  os_2  os_3  os_4  \\\n",
       "0       0       0 ...           1          0     0     1     0     0     0   \n",
       "1       0       0 ...           1          0     0     0     0     0     0   \n",
       "2       0       0 ...           0          0     0     1     0     0     0   \n",
       "3       0       0 ...           1          0     0     1     0     0     0   \n",
       "4       0       0 ...           1          0     0     1     0     0     0   \n",
       "\n",
       "   os_5  os_6  Tag  \n",
       "0     0     0    0  \n",
       "1     0     1    0  \n",
       "2     0     0    0  \n",
       "3     0     0    0  \n",
       "4     0     0    1  \n",
       "\n",
       "[5 rows x 151 columns]"
      ]
     },
     "execution_count": 76,
     "metadata": {},
     "output_type": "execute_result"
    }
   ],
   "source": [
    "operation_tag_train.head()"
   ]
  },
  {
   "cell_type": "code",
   "execution_count": 77,
   "metadata": {},
   "outputs": [],
   "source": [
    "operation_tag = operation_tag_train['Tag']\n",
    "operation_train = operation_tag_train.drop(['UID', 'Tag'], axis=1)"
   ]
  },
  {
   "cell_type": "code",
   "execution_count": 78,
   "metadata": {},
   "outputs": [
    {
     "data": {
      "text/plain": [
       "(1460843, 149)"
      ]
     },
     "execution_count": 78,
     "metadata": {},
     "output_type": "execute_result"
    }
   ],
   "source": [
    "operation_train.shape"
   ]
  },
  {
   "cell_type": "code",
   "execution_count": 79,
   "metadata": {},
   "outputs": [],
   "source": [
    "transaction_tag = transaction_tag_train['Tag']\n",
    "transaction_train = transaction_tag_train.drop(['UID', 'Tag'], axis=1)"
   ]
  },
  {
   "cell_type": "code",
   "execution_count": 80,
   "metadata": {},
   "outputs": [
    {
     "data": {
      "text/plain": [
       "(264654, 95)"
      ]
     },
     "execution_count": 80,
     "metadata": {},
     "output_type": "execute_result"
    }
   ],
   "source": [
    "transaction_train.shape"
   ]
  },
  {
   "cell_type": "code",
   "execution_count": 81,
   "metadata": {},
   "outputs": [
    {
     "name": "stdout",
     "output_type": "stream",
     "text": [
      "0:\tlearn: 0.5874436\ttotal: 425ms\tremaining: 14m 10s\n",
      "200:\tlearn: 0.9633470\ttotal: 1m 24s\tremaining: 12m 31s\n"
     ]
    },
    {
     "name": "stderr",
     "output_type": "stream",
     "text": [
      "Training has stopped (degenerate solution on iteration 249, probably too small l2-regularization, try to increase it)\n"
     ]
    }
   ],
   "source": [
    "import catboost as cb\n",
    "\n",
    "model1 = cb.CatBoostClassifier(iterations=2000, learning_rate=0.05, depth=3, l2_leaf_reg=4, border_count=15, loss_function='Logloss', verbose=200)\n",
    "cv_m1 = model1.fit(operation_train, operation_tag)"
   ]
  },
  {
   "cell_type": "code",
   "execution_count": 82,
   "metadata": {},
   "outputs": [
    {
     "name": "stdout",
     "output_type": "stream",
     "text": [
      "0:\tlearn: 0.5990635\ttotal: 46.3ms\tremaining: 1m 32s\n",
      "200:\tlearn: 0.2068174\ttotal: 9.42s\tremaining: 1m 24s\n",
      "400:\tlearn: 0.1911807\ttotal: 18.8s\tremaining: 1m 14s\n",
      "600:\tlearn: 0.1816881\ttotal: 28.1s\tremaining: 1m 5s\n",
      "800:\tlearn: 0.1756777\ttotal: 37.6s\tremaining: 56.2s\n",
      "1000:\tlearn: 0.1712334\ttotal: 47.2s\tremaining: 47.1s\n",
      "1200:\tlearn: 0.1675462\ttotal: 56.8s\tremaining: 37.8s\n",
      "1400:\tlearn: 0.1646721\ttotal: 1m 6s\tremaining: 28.3s\n",
      "1600:\tlearn: 0.1621245\ttotal: 1m 15s\tremaining: 18.9s\n",
      "1800:\tlearn: 0.1597777\ttotal: 1m 25s\tremaining: 9.42s\n",
      "1999:\tlearn: 0.1578178\ttotal: 1m 34s\tremaining: 0us\n"
     ]
    }
   ],
   "source": [
    "model2 = cb.CatBoostClassifier(iterations=2000, learning_rate=0.05, depth=3, l2_leaf_reg=4, border_count=15, loss_function='Logloss', verbose=200)\n",
    "cv_m2 = model2.fit(transaction_train, transaction_tag)"
   ]
  },
  {
   "cell_type": "markdown",
   "metadata": {},
   "source": [
    "# 5. predict"
   ]
  },
  {
   "cell_type": "code",
   "execution_count": 83,
   "metadata": {},
   "outputs": [
    {
     "data": {
      "text/html": [
       "<div>\n",
       "<style scoped>\n",
       "    .dataframe tbody tr th:only-of-type {\n",
       "        vertical-align: middle;\n",
       "    }\n",
       "\n",
       "    .dataframe tbody tr th {\n",
       "        vertical-align: top;\n",
       "    }\n",
       "\n",
       "    .dataframe thead th {\n",
       "        text-align: right;\n",
       "    }\n",
       "</style>\n",
       "<table border=\"1\" class=\"dataframe\">\n",
       "  <thead>\n",
       "    <tr style=\"text-align: right;\">\n",
       "      <th></th>\n",
       "      <th>UID</th>\n",
       "      <th>Tag</th>\n",
       "    </tr>\n",
       "  </thead>\n",
       "  <tbody>\n",
       "    <tr>\n",
       "      <th>0</th>\n",
       "      <td>30000</td>\n",
       "      <td>0.5</td>\n",
       "    </tr>\n",
       "    <tr>\n",
       "      <th>1</th>\n",
       "      <td>30001</td>\n",
       "      <td>0.5</td>\n",
       "    </tr>\n",
       "    <tr>\n",
       "      <th>2</th>\n",
       "      <td>30002</td>\n",
       "      <td>0.5</td>\n",
       "    </tr>\n",
       "    <tr>\n",
       "      <th>3</th>\n",
       "      <td>30003</td>\n",
       "      <td>0.5</td>\n",
       "    </tr>\n",
       "    <tr>\n",
       "      <th>4</th>\n",
       "      <td>30004</td>\n",
       "      <td>0.5</td>\n",
       "    </tr>\n",
       "  </tbody>\n",
       "</table>\n",
       "</div>"
      ],
      "text/plain": [
       "     UID  Tag\n",
       "0  30000  0.5\n",
       "1  30001  0.5\n",
       "2  30002  0.5\n",
       "3  30003  0.5\n",
       "4  30004  0.5"
      ]
     },
     "execution_count": 83,
     "metadata": {},
     "output_type": "execute_result"
    }
   ],
   "source": [
    "submission = pd.read_csv(\"input/new/example.csv\") \n",
    "submission.head(5)"
   ]
  },
  {
   "cell_type": "code",
   "execution_count": 84,
   "metadata": {},
   "outputs": [],
   "source": [
    "uid = submission['UID'].to_frame()\n",
    "uid_operation = pd.merge(uid, operation_round1, how='left', left_on='UID',right_on='UID')\n",
    "uid_transaction = pd.merge(uid, transaction_round1, how='left', left_on='UID',right_on='UID')\n",
    "operation_uid = uid_operation['UID']\n",
    "uid_operation.drop('UID', axis=1, inplace=True)\n",
    "transaction_uid = uid_transaction['UID']\n",
    "uid_transaction.drop('UID', axis=1, inplace=True)"
   ]
  },
  {
   "cell_type": "code",
   "execution_count": 85,
   "metadata": {},
   "outputs": [],
   "source": [
    "operation_pred = model1.predict_proba(uid_operation)\n",
    "transaction_pred = model2.predict_proba(uid_transaction)"
   ]
  },
  {
   "cell_type": "code",
   "execution_count": 86,
   "metadata": {},
   "outputs": [
    {
     "data": {
      "text/html": [
       "<div>\n",
       "<style scoped>\n",
       "    .dataframe tbody tr th:only-of-type {\n",
       "        vertical-align: middle;\n",
       "    }\n",
       "\n",
       "    .dataframe tbody tr th {\n",
       "        vertical-align: top;\n",
       "    }\n",
       "\n",
       "    .dataframe thead th {\n",
       "        text-align: right;\n",
       "    }\n",
       "</style>\n",
       "<table border=\"1\" class=\"dataframe\">\n",
       "  <thead>\n",
       "    <tr style=\"text-align: right;\">\n",
       "      <th></th>\n",
       "      <th>UID</th>\n",
       "      <th>Tag</th>\n",
       "    </tr>\n",
       "  </thead>\n",
       "  <tbody>\n",
       "    <tr>\n",
       "      <th>0</th>\n",
       "      <td>30000</td>\n",
       "      <td>0.330252</td>\n",
       "    </tr>\n",
       "    <tr>\n",
       "      <th>1</th>\n",
       "      <td>30000</td>\n",
       "      <td>0.330252</td>\n",
       "    </tr>\n",
       "    <tr>\n",
       "      <th>2</th>\n",
       "      <td>30000</td>\n",
       "      <td>0.235377</td>\n",
       "    </tr>\n",
       "    <tr>\n",
       "      <th>3</th>\n",
       "      <td>30000</td>\n",
       "      <td>0.374590</td>\n",
       "    </tr>\n",
       "    <tr>\n",
       "      <th>4</th>\n",
       "      <td>30000</td>\n",
       "      <td>0.235377</td>\n",
       "    </tr>\n",
       "  </tbody>\n",
       "</table>\n",
       "</div>"
      ],
      "text/plain": [
       "     UID       Tag\n",
       "0  30000  0.330252\n",
       "1  30000  0.330252\n",
       "2  30000  0.235377\n",
       "3  30000  0.374590\n",
       "4  30000  0.235377"
      ]
     },
     "execution_count": 86,
     "metadata": {},
     "output_type": "execute_result"
    }
   ],
   "source": [
    "operation_sub = pd.DataFrame()\n",
    "operation_sub['UID'] = operation_uid\n",
    "operation_sub['Tag'] = operation_pred[:, 1]\n",
    "operation_sub.head(5)"
   ]
  },
  {
   "cell_type": "code",
   "execution_count": 87,
   "metadata": {},
   "outputs": [
    {
     "data": {
      "text/html": [
       "<div>\n",
       "<style scoped>\n",
       "    .dataframe tbody tr th:only-of-type {\n",
       "        vertical-align: middle;\n",
       "    }\n",
       "\n",
       "    .dataframe tbody tr th {\n",
       "        vertical-align: top;\n",
       "    }\n",
       "\n",
       "    .dataframe thead th {\n",
       "        text-align: right;\n",
       "    }\n",
       "</style>\n",
       "<table border=\"1\" class=\"dataframe\">\n",
       "  <thead>\n",
       "    <tr style=\"text-align: right;\">\n",
       "      <th></th>\n",
       "      <th>UID</th>\n",
       "      <th>Tag</th>\n",
       "    </tr>\n",
       "  </thead>\n",
       "  <tbody>\n",
       "    <tr>\n",
       "      <th>0</th>\n",
       "      <td>30000</td>\n",
       "      <td>0.027213</td>\n",
       "    </tr>\n",
       "    <tr>\n",
       "      <th>1</th>\n",
       "      <td>30001</td>\n",
       "      <td>0.149780</td>\n",
       "    </tr>\n",
       "    <tr>\n",
       "      <th>2</th>\n",
       "      <td>30001</td>\n",
       "      <td>0.049345</td>\n",
       "    </tr>\n",
       "    <tr>\n",
       "      <th>3</th>\n",
       "      <td>30001</td>\n",
       "      <td>0.113002</td>\n",
       "    </tr>\n",
       "    <tr>\n",
       "      <th>4</th>\n",
       "      <td>30001</td>\n",
       "      <td>0.238311</td>\n",
       "    </tr>\n",
       "  </tbody>\n",
       "</table>\n",
       "</div>"
      ],
      "text/plain": [
       "     UID       Tag\n",
       "0  30000  0.027213\n",
       "1  30001  0.149780\n",
       "2  30001  0.049345\n",
       "3  30001  0.113002\n",
       "4  30001  0.238311"
      ]
     },
     "execution_count": 87,
     "metadata": {},
     "output_type": "execute_result"
    }
   ],
   "source": [
    "transaction_sub = pd.DataFrame()\n",
    "transaction_sub['UID'] = transaction_uid\n",
    "transaction_sub['Tag'] = transaction_pred[:, 1]\n",
    "transaction_sub.head(5)"
   ]
  },
  {
   "cell_type": "code",
   "execution_count": 88,
   "metadata": {},
   "outputs": [],
   "source": [
    "operation_sub = operation_sub.groupby('UID').mean()['Tag']"
   ]
  },
  {
   "cell_type": "code",
   "execution_count": 89,
   "metadata": {},
   "outputs": [],
   "source": [
    "transaction_sub = transaction_sub.groupby('UID').mean()['Tag']"
   ]
  },
  {
   "cell_type": "code",
   "execution_count": 90,
   "metadata": {},
   "outputs": [
    {
     "data": {
      "text/plain": [
       "UID\n",
       "30000    0.180234\n",
       "30001    0.143028\n",
       "30002    0.048724\n",
       "30003    0.042208\n",
       "30004    0.235969\n",
       "30005    0.101579\n",
       "30006    0.232342\n",
       "30007    0.320977\n",
       "30008    0.047315\n",
       "30009    0.808276\n",
       "30010    0.270988\n",
       "30011    0.040286\n",
       "30012    0.235944\n",
       "30013    0.051453\n",
       "30014    0.125367\n",
       "30015    0.079167\n",
       "30016    0.244924\n",
       "30017    0.059341\n",
       "30018    0.105289\n",
       "30019    0.101676\n",
       "30020    0.204245\n",
       "30021    0.036259\n",
       "30022    0.064828\n",
       "30023    0.077062\n",
       "30024    0.026853\n",
       "30025    0.235606\n",
       "30026    0.031987\n",
       "30027    0.234718\n",
       "30028    0.060606\n",
       "30029    0.083140\n",
       "           ...   \n",
       "87734    0.052165\n",
       "87735    0.031664\n",
       "87736    0.092639\n",
       "87737    0.065417\n",
       "87738    0.145253\n",
       "87739    0.012167\n",
       "87740    0.164289\n",
       "87741    0.025138\n",
       "87742    0.013253\n",
       "87743    0.632530\n",
       "87744    0.025492\n",
       "87745    0.064302\n",
       "87746    0.094447\n",
       "87747    0.086714\n",
       "87748    0.014296\n",
       "87749    0.061263\n",
       "87750    0.075153\n",
       "87751    0.053979\n",
       "87752    0.132914\n",
       "87753    0.049319\n",
       "87754    0.421696\n",
       "87755    0.040937\n",
       "87756    0.086734\n",
       "87757    0.043539\n",
       "87758    0.056289\n",
       "87759    0.136232\n",
       "87760    0.086837\n",
       "87761    0.075252\n",
       "87762    0.076540\n",
       "87763    0.044508\n",
       "Name: Tag, Length: 31198, dtype: float64"
      ]
     },
     "execution_count": 90,
     "metadata": {},
     "output_type": "execute_result"
    }
   ],
   "source": [
    "ensemble = (operation_sub + transaction_sub)/2.0\n",
    "ensemble"
   ]
  },
  {
   "cell_type": "code",
   "execution_count": 91,
   "metadata": {},
   "outputs": [
    {
     "data": {
      "text/plain": [
       "array([0.18023355, 0.14302836, 0.04872405, ..., 0.07525164, 0.07654016,\n",
       "       0.04450808])"
      ]
     },
     "execution_count": 91,
     "metadata": {},
     "output_type": "execute_result"
    }
   ],
   "source": [
    "ensemble.values"
   ]
  },
  {
   "cell_type": "code",
   "execution_count": 92,
   "metadata": {},
   "outputs": [],
   "source": [
    "submission = pd.DataFrame()\n",
    "submission['UID'] = ensemble.index\n",
    "submission['Tag'] = ensemble.values\n",
    "submission.to_csv('submission.csv', index=False)"
   ]
  },
  {
   "cell_type": "code",
   "execution_count": 93,
   "metadata": {},
   "outputs": [],
   "source": [
    "import xgboost as xgb"
   ]
  },
  {
   "cell_type": "code",
   "execution_count": 94,
   "metadata": {},
   "outputs": [],
   "source": [
    "model_xgb = xgb.XGBClassifier(colsample_bytree=0.4603, gamma=0.0468, \n",
    "                             learning_rate=0.05, max_depth=3, \n",
    "                             min_child_weight=1.7817, n_estimators=2200,\n",
    "                             reg_alpha=0.4640, reg_lambda=0.8571,\n",
    "                             subsample=0.5213, silent=1,\n",
    "                             random_state =7, nthread = -1)"
   ]
  },
  {
   "cell_type": "code",
   "execution_count": 95,
   "metadata": {},
   "outputs": [
    {
     "ename": "AttributeError",
     "evalue": "'XGBClassifier' object has no attribute 'train'",
     "output_type": "error",
     "traceback": [
      "\u001b[1;31m---------------------------------------------------------------------------\u001b[0m",
      "\u001b[1;31mAttributeError\u001b[0m                            Traceback (most recent call last)",
      "\u001b[1;32m<ipython-input-95-95ad4e8fdb82>\u001b[0m in \u001b[0;36m<module>\u001b[1;34m()\u001b[0m\n\u001b[1;32m----> 1\u001b[1;33m \u001b[0mmodel_xgb\u001b[0m\u001b[1;33m.\u001b[0m\u001b[0mtrain\u001b[0m\u001b[1;33m(\u001b[0m\u001b[0mtransaction_train\u001b[0m\u001b[1;33m,\u001b[0m \u001b[0mtransaction_tag\u001b[0m\u001b[1;33m)\u001b[0m\u001b[1;33m\u001b[0m\u001b[0m\n\u001b[0m",
      "\u001b[1;31mAttributeError\u001b[0m: 'XGBClassifier' object has no attribute 'train'"
     ]
    }
   ],
   "source": [
    "model_xgb.train(transaction_train, transaction_tag)"
   ]
  }
 ],
 "metadata": {
  "kernelspec": {
   "display_name": "Python 3",
   "language": "python",
   "name": "python3"
  },
  "language_info": {
   "codemirror_mode": {
    "name": "ipython",
    "version": 3
   },
   "file_extension": ".py",
   "mimetype": "text/x-python",
   "name": "python",
   "nbconvert_exporter": "python",
   "pygments_lexer": "ipython3",
   "version": "3.6.4"
  }
 },
 "nbformat": 4,
 "nbformat_minor": 2
}
